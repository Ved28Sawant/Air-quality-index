{
 "cells": [
  {
   "cell_type": "code",
   "execution_count": 1,
   "id": "ae03698b",
   "metadata": {},
   "outputs": [],
   "source": [
    "import pandas as pd\n",
    "import numpy as np"
   ]
  },
  {
   "cell_type": "code",
   "execution_count": 2,
   "id": "c34bbf5d",
   "metadata": {},
   "outputs": [
    {
     "data": {
      "text/html": [
       "<div>\n",
       "<style scoped>\n",
       "    .dataframe tbody tr th:only-of-type {\n",
       "        vertical-align: middle;\n",
       "    }\n",
       "\n",
       "    .dataframe tbody tr th {\n",
       "        vertical-align: top;\n",
       "    }\n",
       "\n",
       "    .dataframe thead th {\n",
       "        text-align: right;\n",
       "    }\n",
       "</style>\n",
       "<table border=\"1\" class=\"dataframe\">\n",
       "  <thead>\n",
       "    <tr style=\"text-align: right;\">\n",
       "      <th></th>\n",
       "      <th>CO.R</th>\n",
       "      <th>CO.T</th>\n",
       "      <th>NMHC.R</th>\n",
       "      <th>NMHC.T</th>\n",
       "      <th>NOx.R</th>\n",
       "      <th>NOx.T</th>\n",
       "      <th>NO2.R</th>\n",
       "      <th>NO2.T</th>\n",
       "      <th>C6H6.R</th>\n",
       "      <th>O3.T</th>\n",
       "      <th>T</th>\n",
       "      <th>RH</th>\n",
       "      <th>AH</th>\n",
       "    </tr>\n",
       "    <tr>\n",
       "      <th>DATE</th>\n",
       "      <th></th>\n",
       "      <th></th>\n",
       "      <th></th>\n",
       "      <th></th>\n",
       "      <th></th>\n",
       "      <th></th>\n",
       "      <th></th>\n",
       "      <th></th>\n",
       "      <th></th>\n",
       "      <th></th>\n",
       "      <th></th>\n",
       "      <th></th>\n",
       "      <th></th>\n",
       "    </tr>\n",
       "  </thead>\n",
       "  <tbody>\n",
       "    <tr>\n",
       "      <th>38056</th>\n",
       "      <td>1.966667</td>\n",
       "      <td>1316.500000</td>\n",
       "      <td>86.500000</td>\n",
       "      <td>912.250000</td>\n",
       "      <td>132.000000</td>\n",
       "      <td>1167.250000</td>\n",
       "      <td>108.833333</td>\n",
       "      <td>1545.333333</td>\n",
       "      <td>8.460790</td>\n",
       "      <td>1096.041667</td>\n",
       "      <td>12.020833</td>\n",
       "      <td>54.883334</td>\n",
       "      <td>0.765626</td>\n",
       "    </tr>\n",
       "    <tr>\n",
       "      <th>38057</th>\n",
       "      <td>2.179444</td>\n",
       "      <td>1244.062500</td>\n",
       "      <td>104.500000</td>\n",
       "      <td>851.802083</td>\n",
       "      <td>140.068056</td>\n",
       "      <td>1277.187500</td>\n",
       "      <td>99.716667</td>\n",
       "      <td>1522.697917</td>\n",
       "      <td>7.989058</td>\n",
       "      <td>885.031250</td>\n",
       "      <td>9.833333</td>\n",
       "      <td>64.069791</td>\n",
       "      <td>0.775768</td>\n",
       "    </tr>\n",
       "    <tr>\n",
       "      <th>38058</th>\n",
       "      <td>2.734722</td>\n",
       "      <td>1281.562500</td>\n",
       "      <td>156.062500</td>\n",
       "      <td>1008.229167</td>\n",
       "      <td>170.122222</td>\n",
       "      <td>1101.718750</td>\n",
       "      <td>108.893056</td>\n",
       "      <td>1627.218750</td>\n",
       "      <td>12.129509</td>\n",
       "      <td>1084.218750</td>\n",
       "      <td>11.292708</td>\n",
       "      <td>51.107292</td>\n",
       "      <td>0.663102</td>\n",
       "    </tr>\n",
       "    <tr>\n",
       "      <th>38059</th>\n",
       "      <td>2.645833</td>\n",
       "      <td>1330.555556</td>\n",
       "      <td>139.250000</td>\n",
       "      <td>992.822917</td>\n",
       "      <td>181.293056</td>\n",
       "      <td>993.159722</td>\n",
       "      <td>117.006944</td>\n",
       "      <td>1595.621528</td>\n",
       "      <td>10.922887</td>\n",
       "      <td>1245.781250</td>\n",
       "      <td>12.866319</td>\n",
       "      <td>51.530903</td>\n",
       "      <td>0.732294</td>\n",
       "    </tr>\n",
       "    <tr>\n",
       "      <th>38060</th>\n",
       "      <td>2.442361</td>\n",
       "      <td>1360.927083</td>\n",
       "      <td>116.958333</td>\n",
       "      <td>943.854167</td>\n",
       "      <td>144.952778</td>\n",
       "      <td>1001.104167</td>\n",
       "      <td>111.131944</td>\n",
       "      <td>1602.187500</td>\n",
       "      <td>9.631442</td>\n",
       "      <td>1234.177083</td>\n",
       "      <td>16.016667</td>\n",
       "      <td>48.843750</td>\n",
       "      <td>0.849674</td>\n",
       "    </tr>\n",
       "  </tbody>\n",
       "</table>\n",
       "</div>"
      ],
      "text/plain": [
       "           CO.R         CO.T      NMHC.R       NMHC.T       NOx.R  \\\n",
       "DATE                                                                \n",
       "38056  1.966667  1316.500000   86.500000   912.250000  132.000000   \n",
       "38057  2.179444  1244.062500  104.500000   851.802083  140.068056   \n",
       "38058  2.734722  1281.562500  156.062500  1008.229167  170.122222   \n",
       "38059  2.645833  1330.555556  139.250000   992.822917  181.293056   \n",
       "38060  2.442361  1360.927083  116.958333   943.854167  144.952778   \n",
       "\n",
       "             NOx.T       NO2.R        NO2.T     C6H6.R         O3.T  \\\n",
       "DATE                                                                  \n",
       "38056  1167.250000  108.833333  1545.333333   8.460790  1096.041667   \n",
       "38057  1277.187500   99.716667  1522.697917   7.989058   885.031250   \n",
       "38058  1101.718750  108.893056  1627.218750  12.129509  1084.218750   \n",
       "38059   993.159722  117.006944  1595.621528  10.922887  1245.781250   \n",
       "38060  1001.104167  111.131944  1602.187500   9.631442  1234.177083   \n",
       "\n",
       "               T         RH        AH  \n",
       "DATE                                   \n",
       "38056  12.020833  54.883334  0.765626  \n",
       "38057   9.833333  64.069791  0.775768  \n",
       "38058  11.292708  51.107292  0.663102  \n",
       "38059  12.866319  51.530903  0.732294  \n",
       "38060  16.016667  48.843750  0.849674  "
      ]
     },
     "execution_count": 2,
     "metadata": {},
     "output_type": "execute_result"
    }
   ],
   "source": [
    "df=pd.read_csv(\"AirQualityUCI_average_of_the_day.csv\",index_col='DATE',header=0,parse_dates=[0])\n",
    "df.head()"
   ]
  },
  {
   "cell_type": "code",
   "execution_count": 3,
   "id": "18ae1cdb",
   "metadata": {},
   "outputs": [
    {
     "name": "stdout",
     "output_type": "stream",
     "text": [
      "<class 'pandas.core.frame.DataFrame'>\n",
      "Int64Index: 391 entries, 38056 to 38446\n",
      "Data columns (total 13 columns):\n",
      " #   Column  Non-Null Count  Dtype  \n",
      "---  ------  --------------  -----  \n",
      " 0   CO.R    391 non-null    float64\n",
      " 1   CO.T    391 non-null    float64\n",
      " 2   NMHC.R  391 non-null    float64\n",
      " 3   NMHC.T  391 non-null    float64\n",
      " 4   NOx.R   391 non-null    float64\n",
      " 5   NOx.T   391 non-null    float64\n",
      " 6   NO2.R   391 non-null    float64\n",
      " 7   NO2.T   391 non-null    float64\n",
      " 8   C6H6.R  391 non-null    float64\n",
      " 9   O3.T    391 non-null    float64\n",
      " 10  T       391 non-null    float64\n",
      " 11  RH      391 non-null    float64\n",
      " 12  AH      391 non-null    float64\n",
      "dtypes: float64(13)\n",
      "memory usage: 42.8 KB\n"
     ]
    }
   ],
   "source": [
    "df.info()"
   ]
  },
  {
   "cell_type": "markdown",
   "id": "d8c7d74f",
   "metadata": {},
   "source": [
    "# CO"
   ]
  },
  {
   "cell_type": "code",
   "execution_count": 6,
   "id": "0b4de68a",
   "metadata": {},
   "outputs": [
    {
     "data": {
      "text/plain": [
       "(-9.64720667383919,\n",
       " 1.4669622995917e-16,\n",
       " 1,\n",
       " 389,\n",
       " {'1%': -3.447272819026727,\n",
       "  '5%': -2.868998737588248,\n",
       "  '10%': -2.5707433189709294},\n",
       " 4517.9994911789045)"
      ]
     },
     "execution_count": 6,
     "metadata": {},
     "output_type": "execute_result"
    }
   ],
   "source": [
    "dftest=adfuller(df['CO.T'])\n",
    "dftest"
   ]
  },
  {
   "cell_type": "markdown",
   "id": "4f0f1855",
   "metadata": {},
   "source": [
    "Since, p-value is  0.02869043799310456<0.05. We will conclude that series is stationary"
   ]
  },
  {
   "cell_type": "code",
   "execution_count": 7,
   "id": "5cffd4de",
   "metadata": {},
   "outputs": [
    {
     "name": "stdout",
     "output_type": "stream",
     "text": [
      "Performing stepwise search to minimize aic\n",
      " ARIMA(2,0,2)(0,0,0)[0] intercept   : AIC=4737.851, Time=0.26 sec\n",
      " ARIMA(0,0,0)(0,0,0)[0] intercept   : AIC=5006.955, Time=0.01 sec\n",
      " ARIMA(1,0,0)(0,0,0)[0] intercept   : AIC=4751.337, Time=0.06 sec\n",
      " ARIMA(0,0,1)(0,0,0)[0] intercept   : AIC=4799.504, Time=0.08 sec\n",
      " ARIMA(0,0,0)(0,0,0)[0]             : AIC=6596.770, Time=0.00 sec\n",
      " ARIMA(1,0,2)(0,0,0)[0] intercept   : AIC=4738.024, Time=0.14 sec\n",
      " ARIMA(2,0,1)(0,0,0)[0] intercept   : AIC=4735.820, Time=0.16 sec\n",
      " ARIMA(1,0,1)(0,0,0)[0] intercept   : AIC=4736.471, Time=0.09 sec\n",
      " ARIMA(2,0,0)(0,0,0)[0] intercept   : AIC=4733.794, Time=0.11 sec\n",
      " ARIMA(3,0,0)(0,0,0)[0] intercept   : AIC=4735.453, Time=0.06 sec\n",
      " ARIMA(3,0,1)(0,0,0)[0] intercept   : AIC=4737.453, Time=0.24 sec\n",
      " ARIMA(2,0,0)(0,0,0)[0]             : AIC=inf, Time=0.02 sec\n",
      "\n",
      "Best model:  ARIMA(2,0,0)(0,0,0)[0] intercept\n",
      "Total fit time: 1.334 seconds\n"
     ]
    },
    {
     "data": {
      "text/html": [
       "<table class=\"simpletable\">\n",
       "<caption>SARIMAX Results</caption>\n",
       "<tr>\n",
       "  <th>Dep. Variable:</th>           <td>y</td>        <th>  No. Observations:  </th>    <td>391</td>   \n",
       "</tr>\n",
       "<tr>\n",
       "  <th>Model:</th>           <td>SARIMAX(2, 0, 0)</td> <th>  Log Likelihood     </th> <td>-2362.897</td>\n",
       "</tr>\n",
       "<tr>\n",
       "  <th>Date:</th>            <td>Tue, 16 Nov 2021</td> <th>  AIC                </th> <td>4733.794</td> \n",
       "</tr>\n",
       "<tr>\n",
       "  <th>Time:</th>                <td>22:25:43</td>     <th>  BIC                </th> <td>4749.669</td> \n",
       "</tr>\n",
       "<tr>\n",
       "  <th>Sample:</th>                  <td>0</td>        <th>  HQIC               </th> <td>4740.086</td> \n",
       "</tr>\n",
       "<tr>\n",
       "  <th></th>                      <td> - 391</td>      <th>                     </th>     <td> </td>    \n",
       "</tr>\n",
       "<tr>\n",
       "  <th>Covariance Type:</th>        <td>opg</td>       <th>                     </th>     <td> </td>    \n",
       "</tr>\n",
       "</table>\n",
       "<table class=\"simpletable\">\n",
       "<tr>\n",
       "      <td></td>         <th>coef</th>     <th>std err</th>      <th>z</th>      <th>P>|z|</th>  <th>[0.025</th>    <th>0.975]</th>  \n",
       "</tr>\n",
       "<tr>\n",
       "  <th>intercept</th> <td>  411.4261</td> <td>   45.103</td> <td>    9.122</td> <td> 0.000</td> <td>  323.027</td> <td>  499.826</td>\n",
       "</tr>\n",
       "<tr>\n",
       "  <th>ar.L1</th>     <td>    0.8488</td> <td>    0.051</td> <td>   16.598</td> <td> 0.000</td> <td>    0.749</td> <td>    0.949</td>\n",
       "</tr>\n",
       "<tr>\n",
       "  <th>ar.L2</th>     <td>   -0.2216</td> <td>    0.047</td> <td>   -4.764</td> <td> 0.000</td> <td>   -0.313</td> <td>   -0.130</td>\n",
       "</tr>\n",
       "<tr>\n",
       "  <th>sigma2</th>    <td> 1.036e+04</td> <td>  658.561</td> <td>   15.738</td> <td> 0.000</td> <td> 9073.992</td> <td> 1.17e+04</td>\n",
       "</tr>\n",
       "</table>\n",
       "<table class=\"simpletable\">\n",
       "<tr>\n",
       "  <th>Ljung-Box (L1) (Q):</th>     <td>0.01</td> <th>  Jarque-Bera (JB):  </th> <td>5.81</td> \n",
       "</tr>\n",
       "<tr>\n",
       "  <th>Prob(Q):</th>                <td>0.92</td> <th>  Prob(JB):          </th> <td>0.05</td> \n",
       "</tr>\n",
       "<tr>\n",
       "  <th>Heteroskedasticity (H):</th> <td>1.98</td> <th>  Skew:              </th> <td>-0.04</td>\n",
       "</tr>\n",
       "<tr>\n",
       "  <th>Prob(H) (two-sided):</th>    <td>0.00</td> <th>  Kurtosis:          </th> <td>3.59</td> \n",
       "</tr>\n",
       "</table><br/><br/>Warnings:<br/>[1] Covariance matrix calculated using the outer product of gradients (complex-step)."
      ],
      "text/plain": [
       "<class 'statsmodels.iolib.summary.Summary'>\n",
       "\"\"\"\n",
       "                               SARIMAX Results                                \n",
       "==============================================================================\n",
       "Dep. Variable:                      y   No. Observations:                  391\n",
       "Model:               SARIMAX(2, 0, 0)   Log Likelihood               -2362.897\n",
       "Date:                Tue, 16 Nov 2021   AIC                           4733.794\n",
       "Time:                        22:25:43   BIC                           4749.669\n",
       "Sample:                             0   HQIC                          4740.086\n",
       "                                - 391                                         \n",
       "Covariance Type:                  opg                                         \n",
       "==============================================================================\n",
       "                 coef    std err          z      P>|z|      [0.025      0.975]\n",
       "------------------------------------------------------------------------------\n",
       "intercept    411.4261     45.103      9.122      0.000     323.027     499.826\n",
       "ar.L1          0.8488      0.051     16.598      0.000       0.749       0.949\n",
       "ar.L2         -0.2216      0.047     -4.764      0.000      -0.313      -0.130\n",
       "sigma2      1.036e+04    658.561     15.738      0.000    9073.992    1.17e+04\n",
       "===================================================================================\n",
       "Ljung-Box (L1) (Q):                   0.01   Jarque-Bera (JB):                 5.81\n",
       "Prob(Q):                              0.92   Prob(JB):                         0.05\n",
       "Heteroskedasticity (H):               1.98   Skew:                            -0.04\n",
       "Prob(H) (two-sided):                  0.00   Kurtosis:                         3.59\n",
       "===================================================================================\n",
       "\n",
       "Warnings:\n",
       "[1] Covariance matrix calculated using the outer product of gradients (complex-step).\n",
       "\"\"\""
      ]
     },
     "execution_count": 7,
     "metadata": {},
     "output_type": "execute_result"
    }
   ],
   "source": [
    "from pmdarima import auto_arima\n",
    "\n",
    "stepwise_fit=auto_arima(df['CO.T'],trace=True,suppres_worings=True)\n",
    "stepwise_fit.summary()"
   ]
  },
  {
   "cell_type": "code",
   "execution_count": 8,
   "id": "c76ba0c2",
   "metadata": {},
   "outputs": [],
   "source": [
    "train=df[1:df.shape[0]-100]\n",
    "test=df[df.shape[0]-100:]"
   ]
  },
  {
   "cell_type": "code",
   "execution_count": 9,
   "id": "a4f0bd4d",
   "metadata": {},
   "outputs": [
    {
     "name": "stderr",
     "output_type": "stream",
     "text": [
      "C:\\Users\\VEDANG SAWANT\\AppData\\Roaming\\Python\\Python38\\site-packages\\statsmodels\\tsa\\base\\tsa_model.py:590: ValueWarning: An unsupported index was provided and will be ignored when e.g. forecasting.\n",
      "  warnings.warn('An unsupported index was provided and will be'\n",
      "C:\\Users\\VEDANG SAWANT\\AppData\\Roaming\\Python\\Python38\\site-packages\\statsmodels\\tsa\\base\\tsa_model.py:590: ValueWarning: An unsupported index was provided and will be ignored when e.g. forecasting.\n",
      "  warnings.warn('An unsupported index was provided and will be'\n",
      "C:\\Users\\VEDANG SAWANT\\AppData\\Roaming\\Python\\Python38\\site-packages\\statsmodels\\tsa\\base\\tsa_model.py:590: ValueWarning: An unsupported index was provided and will be ignored when e.g. forecasting.\n",
      "  warnings.warn('An unsupported index was provided and will be'\n"
     ]
    },
    {
     "data": {
      "text/plain": [
       "<statsmodels.tsa.arima.model.ARIMA at 0x1603d272dc0>"
      ]
     },
     "execution_count": 9,
     "metadata": {},
     "output_type": "execute_result"
    }
   ],
   "source": [
    "from statsmodels.tsa.arima.model import ARIMA\n",
    "model=ARIMA(train['CO.T'],order=(2,0,0))\n",
    "model_fit=model.fit()\n",
    "model"
   ]
  },
  {
   "cell_type": "code",
   "execution_count": 10,
   "id": "9522f607",
   "metadata": {},
   "outputs": [
    {
     "data": {
      "text/html": [
       "<table class=\"simpletable\">\n",
       "<caption>SARIMAX Results</caption>\n",
       "<tr>\n",
       "  <th>Dep. Variable:</th>         <td>CO.T</td>       <th>  No. Observations:  </th>    <td>290</td>   \n",
       "</tr>\n",
       "<tr>\n",
       "  <th>Model:</th>            <td>ARIMA(2, 0, 0)</td>  <th>  Log Likelihood     </th> <td>-1742.690</td>\n",
       "</tr>\n",
       "<tr>\n",
       "  <th>Date:</th>            <td>Tue, 16 Nov 2021</td> <th>  AIC                </th> <td>3493.381</td> \n",
       "</tr>\n",
       "<tr>\n",
       "  <th>Time:</th>                <td>22:26:01</td>     <th>  BIC                </th> <td>3508.060</td> \n",
       "</tr>\n",
       "<tr>\n",
       "  <th>Sample:</th>                  <td>0</td>        <th>  HQIC               </th> <td>3499.262</td> \n",
       "</tr>\n",
       "<tr>\n",
       "  <th></th>                      <td> - 290</td>      <th>                     </th>     <td> </td>    \n",
       "</tr>\n",
       "<tr>\n",
       "  <th>Covariance Type:</th>        <td>opg</td>       <th>                     </th>     <td> </td>    \n",
       "</tr>\n",
       "</table>\n",
       "<table class=\"simpletable\">\n",
       "<tr>\n",
       "     <td></td>       <th>coef</th>     <th>std err</th>      <th>z</th>      <th>P>|z|</th>  <th>[0.025</th>    <th>0.975]</th>  \n",
       "</tr>\n",
       "<tr>\n",
       "  <th>const</th>  <td> 1100.2530</td> <td>   17.469</td> <td>   62.981</td> <td> 0.000</td> <td> 1066.013</td> <td> 1134.493</td>\n",
       "</tr>\n",
       "<tr>\n",
       "  <th>ar.L1</th>  <td>    0.8762</td> <td>    0.060</td> <td>   14.485</td> <td> 0.000</td> <td>    0.758</td> <td>    0.995</td>\n",
       "</tr>\n",
       "<tr>\n",
       "  <th>ar.L2</th>  <td>   -0.2208</td> <td>    0.054</td> <td>   -4.064</td> <td> 0.000</td> <td>   -0.327</td> <td>   -0.114</td>\n",
       "</tr>\n",
       "<tr>\n",
       "  <th>sigma2</th> <td> 9694.0659</td> <td>  682.062</td> <td>   14.213</td> <td> 0.000</td> <td> 8357.250</td> <td>  1.1e+04</td>\n",
       "</tr>\n",
       "</table>\n",
       "<table class=\"simpletable\">\n",
       "<tr>\n",
       "  <th>Ljung-Box (L1) (Q):</th>     <td>0.02</td> <th>  Jarque-Bera (JB):  </th> <td>10.40</td>\n",
       "</tr>\n",
       "<tr>\n",
       "  <th>Prob(Q):</th>                <td>0.88</td> <th>  Prob(JB):          </th> <td>0.01</td> \n",
       "</tr>\n",
       "<tr>\n",
       "  <th>Heteroskedasticity (H):</th> <td>1.98</td> <th>  Skew:              </th> <td>-0.20</td>\n",
       "</tr>\n",
       "<tr>\n",
       "  <th>Prob(H) (two-sided):</th>    <td>0.00</td> <th>  Kurtosis:          </th> <td>3.83</td> \n",
       "</tr>\n",
       "</table><br/><br/>Warnings:<br/>[1] Covariance matrix calculated using the outer product of gradients (complex-step)."
      ],
      "text/plain": [
       "<class 'statsmodels.iolib.summary.Summary'>\n",
       "\"\"\"\n",
       "                               SARIMAX Results                                \n",
       "==============================================================================\n",
       "Dep. Variable:                   CO.T   No. Observations:                  290\n",
       "Model:                 ARIMA(2, 0, 0)   Log Likelihood               -1742.690\n",
       "Date:                Tue, 16 Nov 2021   AIC                           3493.381\n",
       "Time:                        22:26:01   BIC                           3508.060\n",
       "Sample:                             0   HQIC                          3499.262\n",
       "                                - 290                                         \n",
       "Covariance Type:                  opg                                         \n",
       "==============================================================================\n",
       "                 coef    std err          z      P>|z|      [0.025      0.975]\n",
       "------------------------------------------------------------------------------\n",
       "const       1100.2530     17.469     62.981      0.000    1066.013    1134.493\n",
       "ar.L1          0.8762      0.060     14.485      0.000       0.758       0.995\n",
       "ar.L2         -0.2208      0.054     -4.064      0.000      -0.327      -0.114\n",
       "sigma2      9694.0659    682.062     14.213      0.000    8357.250     1.1e+04\n",
       "===================================================================================\n",
       "Ljung-Box (L1) (Q):                   0.02   Jarque-Bera (JB):                10.40\n",
       "Prob(Q):                              0.88   Prob(JB):                         0.01\n",
       "Heteroskedasticity (H):               1.98   Skew:                            -0.20\n",
       "Prob(H) (two-sided):                  0.00   Kurtosis:                         3.83\n",
       "===================================================================================\n",
       "\n",
       "Warnings:\n",
       "[1] Covariance matrix calculated using the outer product of gradients (complex-step).\n",
       "\"\"\""
      ]
     },
     "execution_count": 10,
     "metadata": {},
     "output_type": "execute_result"
    }
   ],
   "source": [
    "model_fit.summary()"
   ]
  },
  {
   "cell_type": "code",
   "execution_count": 11,
   "id": "e9e3a807",
   "metadata": {},
   "outputs": [
    {
     "name": "stdout",
     "output_type": "stream",
     "text": [
      "DATE\n",
      "38346    1328.962652\n",
      "38347    1225.832555\n",
      "38348    1159.791631\n",
      "38349    1124.695017\n",
      "38350    1108.523838\n",
      "            ...     \n",
      "38441    1100.253006\n",
      "38442    1100.253006\n",
      "38443    1100.253006\n",
      "38444    1100.253006\n",
      "38445    1100.253006\n",
      "Name: predicted_mean, Length: 100, dtype: float64\n"
     ]
    },
    {
     "name": "stderr",
     "output_type": "stream",
     "text": [
      "C:\\Users\\VEDANG SAWANT\\AppData\\Roaming\\Python\\Python38\\site-packages\\statsmodels\\tsa\\base\\tsa_model.py:390: ValueWarning: No supported index is available. Prediction results will be given with an integer index beginning at `start`.\n",
      "  warnings.warn('No supported index is available.'\n"
     ]
    }
   ],
   "source": [
    "start=len(train)\n",
    "end=len(train)+len(test)-1\n",
    "pred=model_fit.predict(start=start,end=end)\n",
    "pred.index=df.index[start:end+1]\n",
    "print(pred)"
   ]
  },
  {
   "cell_type": "code",
   "execution_count": 12,
   "id": "e49630a7",
   "metadata": {},
   "outputs": [
    {
     "data": {
      "text/plain": [
       "<AxesSubplot:xlabel='DATE'>"
      ]
     },
     "execution_count": 12,
     "metadata": {},
     "output_type": "execute_result"
    },
    {
     "data": {
      "image/png": "[encoded data removed]",
      "text/plain": [
       "<Figure size 432x288 with 1 Axes>"
      ]
     },
     "metadata": {
      "needs_background": "light"
     },
     "output_type": "display_data"
    }
   ],
   "source": [
    "pred.plot(legend=True)\n",
    "test['CO.T'].plot(legend=True)"
   ]
  },
  {
   "cell_type": "code",
   "execution_count": 13,
   "id": "6f27fe2a",
   "metadata": {},
   "outputs": [
    {
     "data": {
      "text/plain": [
       "150.81489426201068"
      ]
     },
     "execution_count": 13,
     "metadata": {},
     "output_type": "execute_result"
    }
   ],
   "source": [
    "from sklearn.metrics import mean_squared_error\n",
    "from math import sqrt\n",
    "rmse=sqrt(mean_squared_error(pred,test['CO.T']))\n",
    "rmse"
   ]
  },
  {
   "cell_type": "markdown",
   "id": "66f24e46",
   "metadata": {},
   "source": [
    "# NMHC.T"
   ]
  },
  {
   "cell_type": "code",
   "execution_count": 16,
   "id": "410eaa87",
   "metadata": {},
   "outputs": [
    {
     "name": "stdout",
     "output_type": "stream",
     "text": [
      "Performing stepwise search to minimize aic\n",
      " ARIMA(2,1,2)(0,0,0)[0] intercept   : AIC=4849.364, Time=0.31 sec\n",
      " ARIMA(0,1,0)(0,0,0)[0] intercept   : AIC=4942.858, Time=0.01 sec\n",
      " ARIMA(1,1,0)(0,0,0)[0] intercept   : AIC=4943.982, Time=0.02 sec\n",
      " ARIMA(0,1,1)(0,0,0)[0] intercept   : AIC=4943.172, Time=0.02 sec\n",
      " ARIMA(0,1,0)(0,0,0)[0]             : AIC=4940.859, Time=0.01 sec\n",
      " ARIMA(1,1,2)(0,0,0)[0] intercept   : AIC=4852.243, Time=0.18 sec\n",
      " ARIMA(2,1,1)(0,0,0)[0] intercept   : AIC=4848.422, Time=0.16 sec\n",
      " ARIMA(1,1,1)(0,0,0)[0] intercept   : AIC=4864.821, Time=0.37 sec\n",
      " ARIMA(2,1,0)(0,0,0)[0] intercept   : AIC=4926.048, Time=0.03 sec\n",
      " ARIMA(3,1,1)(0,0,0)[0] intercept   : AIC=4849.417, Time=0.28 sec\n",
      " ARIMA(3,1,0)(0,0,0)[0] intercept   : AIC=4910.577, Time=0.04 sec\n",
      " ARIMA(3,1,2)(0,0,0)[0] intercept   : AIC=4851.050, Time=0.38 sec\n",
      " ARIMA(2,1,1)(0,0,0)[0]             : AIC=4846.661, Time=0.13 sec\n",
      " ARIMA(1,1,1)(0,0,0)[0]             : AIC=4863.174, Time=0.19 sec\n",
      " ARIMA(2,1,0)(0,0,0)[0]             : AIC=4924.050, Time=0.02 sec\n",
      " ARIMA(3,1,1)(0,0,0)[0]             : AIC=4847.628, Time=0.17 sec\n",
      " ARIMA(2,1,2)(0,0,0)[0]             : AIC=4847.569, Time=0.26 sec\n",
      " ARIMA(1,1,0)(0,0,0)[0]             : AIC=4941.982, Time=0.01 sec\n",
      " ARIMA(1,1,2)(0,0,0)[0]             : AIC=4850.534, Time=0.11 sec\n",
      " ARIMA(3,1,0)(0,0,0)[0]             : AIC=4908.584, Time=0.02 sec\n",
      " ARIMA(3,1,2)(0,0,0)[0]             : AIC=4849.293, Time=0.23 sec\n",
      "\n",
      "Best model:  ARIMA(2,1,1)(0,0,0)[0]          \n",
      "Total fit time: 2.956 seconds\n"
     ]
    },
    {
     "data": {
      "text/html": [
       "<table class=\"simpletable\">\n",
       "<caption>SARIMAX Results</caption>\n",
       "<tr>\n",
       "  <th>Dep. Variable:</th>           <td>y</td>        <th>  No. Observations:  </th>    <td>391</td>   \n",
       "</tr>\n",
       "<tr>\n",
       "  <th>Model:</th>           <td>SARIMAX(2, 1, 1)</td> <th>  Log Likelihood     </th> <td>-2419.330</td>\n",
       "</tr>\n",
       "<tr>\n",
       "  <th>Date:</th>            <td>Tue, 16 Nov 2021</td> <th>  AIC                </th> <td>4846.661</td> \n",
       "</tr>\n",
       "<tr>\n",
       "  <th>Time:</th>                <td>22:28:49</td>     <th>  BIC                </th> <td>4862.525</td> \n",
       "</tr>\n",
       "<tr>\n",
       "  <th>Sample:</th>                  <td>0</td>        <th>  HQIC               </th> <td>4852.950</td> \n",
       "</tr>\n",
       "<tr>\n",
       "  <th></th>                      <td> - 391</td>      <th>                     </th>     <td> </td>    \n",
       "</tr>\n",
       "<tr>\n",
       "  <th>Covariance Type:</th>        <td>opg</td>       <th>                     </th>     <td> </td>    \n",
       "</tr>\n",
       "</table>\n",
       "<table class=\"simpletable\">\n",
       "<tr>\n",
       "     <td></td>       <th>coef</th>     <th>std err</th>      <th>z</th>      <th>P>|z|</th>  <th>[0.025</th>    <th>0.975]</th>  \n",
       "</tr>\n",
       "<tr>\n",
       "  <th>ar.L1</th>  <td>    0.6785</td> <td>    0.053</td> <td>   12.846</td> <td> 0.000</td> <td>    0.575</td> <td>    0.782</td>\n",
       "</tr>\n",
       "<tr>\n",
       "  <th>ar.L2</th>  <td>   -0.2233</td> <td>    0.051</td> <td>   -4.338</td> <td> 0.000</td> <td>   -0.324</td> <td>   -0.122</td>\n",
       "</tr>\n",
       "<tr>\n",
       "  <th>ma.L1</th>  <td>   -0.9551</td> <td>    0.017</td> <td>  -54.870</td> <td> 0.000</td> <td>   -0.989</td> <td>   -0.921</td>\n",
       "</tr>\n",
       "<tr>\n",
       "  <th>sigma2</th> <td> 1.425e+04</td> <td>  974.312</td> <td>   14.623</td> <td> 0.000</td> <td> 1.23e+04</td> <td> 1.62e+04</td>\n",
       "</tr>\n",
       "</table>\n",
       "<table class=\"simpletable\">\n",
       "<tr>\n",
       "  <th>Ljung-Box (L1) (Q):</th>     <td>0.06</td> <th>  Jarque-Bera (JB):  </th> <td>1.05</td> \n",
       "</tr>\n",
       "<tr>\n",
       "  <th>Prob(Q):</th>                <td>0.81</td> <th>  Prob(JB):          </th> <td>0.59</td> \n",
       "</tr>\n",
       "<tr>\n",
       "  <th>Heteroskedasticity (H):</th> <td>1.72</td> <th>  Skew:              </th> <td>-0.07</td>\n",
       "</tr>\n",
       "<tr>\n",
       "  <th>Prob(H) (two-sided):</th>    <td>0.00</td> <th>  Kurtosis:          </th> <td>3.22</td> \n",
       "</tr>\n",
       "</table><br/><br/>Warnings:<br/>[1] Covariance matrix calculated using the outer product of gradients (complex-step)."
      ],
      "text/plain": [
       "<class 'statsmodels.iolib.summary.Summary'>\n",
       "\"\"\"\n",
       "                               SARIMAX Results                                \n",
       "==============================================================================\n",
       "Dep. Variable:                      y   No. Observations:                  391\n",
       "Model:               SARIMAX(2, 1, 1)   Log Likelihood               -2419.330\n",
       "Date:                Tue, 16 Nov 2021   AIC                           4846.661\n",
       "Time:                        22:28:49   BIC                           4862.525\n",
       "Sample:                             0   HQIC                          4852.950\n",
       "                                - 391                                         \n",
       "Covariance Type:                  opg                                         \n",
       "==============================================================================\n",
       "                 coef    std err          z      P>|z|      [0.025      0.975]\n",
       "------------------------------------------------------------------------------\n",
       "ar.L1          0.6785      0.053     12.846      0.000       0.575       0.782\n",
       "ar.L2         -0.2233      0.051     -4.338      0.000      -0.324      -0.122\n",
       "ma.L1         -0.9551      0.017    -54.870      0.000      -0.989      -0.921\n",
       "sigma2      1.425e+04    974.312     14.623      0.000    1.23e+04    1.62e+04\n",
       "===================================================================================\n",
       "Ljung-Box (L1) (Q):                   0.06   Jarque-Bera (JB):                 1.05\n",
       "Prob(Q):                              0.81   Prob(JB):                         0.59\n",
       "Heteroskedasticity (H):               1.72   Skew:                            -0.07\n",
       "Prob(H) (two-sided):                  0.00   Kurtosis:                         3.22\n",
       "===================================================================================\n",
       "\n",
       "Warnings:\n",
       "[1] Covariance matrix calculated using the outer product of gradients (complex-step).\n",
       "\"\"\""
      ]
     },
     "execution_count": 16,
     "metadata": {},
     "output_type": "execute_result"
    }
   ],
   "source": [
    "stepwise_fit=auto_arima(df['NMHC.T'],trace=True,suppres_worings=True)\n",
    "stepwise_fit.summary()"
   ]
  },
  {
   "cell_type": "code",
   "execution_count": 17,
   "id": "6f25175a",
   "metadata": {},
   "outputs": [],
   "source": [
    "train=df[1:df.shape[0]-100]\n",
    "test=df[df.shape[0]-100:]"
   ]
  },
  {
   "cell_type": "code",
   "execution_count": 18,
   "id": "417479f5",
   "metadata": {},
   "outputs": [
    {
     "name": "stderr",
     "output_type": "stream",
     "text": [
      "C:\\Users\\VEDANG SAWANT\\AppData\\Roaming\\Python\\Python38\\site-packages\\statsmodels\\tsa\\base\\tsa_model.py:590: ValueWarning: An unsupported index was provided and will be ignored when e.g. forecasting.\n",
      "  warnings.warn('An unsupported index was provided and will be'\n",
      "C:\\Users\\VEDANG SAWANT\\AppData\\Roaming\\Python\\Python38\\site-packages\\statsmodels\\tsa\\base\\tsa_model.py:590: ValueWarning: An unsupported index was provided and will be ignored when e.g. forecasting.\n",
      "  warnings.warn('An unsupported index was provided and will be'\n",
      "C:\\Users\\VEDANG SAWANT\\AppData\\Roaming\\Python\\Python38\\site-packages\\statsmodels\\tsa\\base\\tsa_model.py:590: ValueWarning: An unsupported index was provided and will be ignored when e.g. forecasting.\n",
      "  warnings.warn('An unsupported index was provided and will be'\n"
     ]
    },
    {
     "data": {
      "text/plain": [
       "<statsmodels.tsa.arima.model.ARIMA at 0x1603e68fbb0>"
      ]
     },
     "execution_count": 18,
     "metadata": {},
     "output_type": "execute_result"
    }
   ],
   "source": [
    "from statsmodels.tsa.arima.model import ARIMA\n",
    "model=ARIMA(train['NMHC.T'],order=(2,1,1))\n",
    "model_fit=model.fit()\n",
    "model"
   ]
  },
  {
   "cell_type": "code",
   "execution_count": 19,
   "id": "c4da3655",
   "metadata": {},
   "outputs": [
    {
     "data": {
      "text/html": [
       "<table class=\"simpletable\">\n",
       "<caption>SARIMAX Results</caption>\n",
       "<tr>\n",
       "  <th>Dep. Variable:</th>        <td>NMHC.T</td>      <th>  No. Observations:  </th>    <td>290</td>   \n",
       "</tr>\n",
       "<tr>\n",
       "  <th>Model:</th>            <td>ARIMA(2, 1, 1)</td>  <th>  Log Likelihood     </th> <td>-1785.530</td>\n",
       "</tr>\n",
       "<tr>\n",
       "  <th>Date:</th>            <td>Tue, 16 Nov 2021</td> <th>  AIC                </th> <td>3579.060</td> \n",
       "</tr>\n",
       "<tr>\n",
       "  <th>Time:</th>                <td>22:29:50</td>     <th>  BIC                </th> <td>3593.726</td> \n",
       "</tr>\n",
       "<tr>\n",
       "  <th>Sample:</th>                  <td>0</td>        <th>  HQIC               </th> <td>3584.937</td> \n",
       "</tr>\n",
       "<tr>\n",
       "  <th></th>                      <td> - 290</td>      <th>                     </th>     <td> </td>    \n",
       "</tr>\n",
       "<tr>\n",
       "  <th>Covariance Type:</th>        <td>opg</td>       <th>                     </th>     <td> </td>    \n",
       "</tr>\n",
       "</table>\n",
       "<table class=\"simpletable\">\n",
       "<tr>\n",
       "     <td></td>       <th>coef</th>     <th>std err</th>      <th>z</th>      <th>P>|z|</th>  <th>[0.025</th>    <th>0.975]</th>  \n",
       "</tr>\n",
       "<tr>\n",
       "  <th>ar.L1</th>  <td>    0.6894</td> <td>    0.060</td> <td>   11.469</td> <td> 0.000</td> <td>    0.572</td> <td>    0.807</td>\n",
       "</tr>\n",
       "<tr>\n",
       "  <th>ar.L2</th>  <td>   -0.2485</td> <td>    0.059</td> <td>   -4.215</td> <td> 0.000</td> <td>   -0.364</td> <td>   -0.133</td>\n",
       "</tr>\n",
       "<tr>\n",
       "  <th>ma.L1</th>  <td>   -0.9615</td> <td>    0.018</td> <td>  -53.286</td> <td> 0.000</td> <td>   -0.997</td> <td>   -0.926</td>\n",
       "</tr>\n",
       "<tr>\n",
       "  <th>sigma2</th> <td> 1.352e+04</td> <td> 1025.496</td> <td>   13.184</td> <td> 0.000</td> <td> 1.15e+04</td> <td> 1.55e+04</td>\n",
       "</tr>\n",
       "</table>\n",
       "<table class=\"simpletable\">\n",
       "<tr>\n",
       "  <th>Ljung-Box (L1) (Q):</th>     <td>0.07</td> <th>  Jarque-Bera (JB):  </th> <td>3.68</td> \n",
       "</tr>\n",
       "<tr>\n",
       "  <th>Prob(Q):</th>                <td>0.79</td> <th>  Prob(JB):          </th> <td>0.16</td> \n",
       "</tr>\n",
       "<tr>\n",
       "  <th>Heteroskedasticity (H):</th> <td>1.77</td> <th>  Skew:              </th> <td>-0.03</td>\n",
       "</tr>\n",
       "<tr>\n",
       "  <th>Prob(H) (two-sided):</th>    <td>0.01</td> <th>  Kurtosis:          </th> <td>3.55</td> \n",
       "</tr>\n",
       "</table><br/><br/>Warnings:<br/>[1] Covariance matrix calculated using the outer product of gradients (complex-step)."
      ],
      "text/plain": [
       "<class 'statsmodels.iolib.summary.Summary'>\n",
       "\"\"\"\n",
       "                               SARIMAX Results                                \n",
       "==============================================================================\n",
       "Dep. Variable:                 NMHC.T   No. Observations:                  290\n",
       "Model:                 ARIMA(2, 1, 1)   Log Likelihood               -1785.530\n",
       "Date:                Tue, 16 Nov 2021   AIC                           3579.060\n",
       "Time:                        22:29:50   BIC                           3593.726\n",
       "Sample:                             0   HQIC                          3584.937\n",
       "                                - 290                                         \n",
       "Covariance Type:                  opg                                         \n",
       "==============================================================================\n",
       "                 coef    std err          z      P>|z|      [0.025      0.975]\n",
       "------------------------------------------------------------------------------\n",
       "ar.L1          0.6894      0.060     11.469      0.000       0.572       0.807\n",
       "ar.L2         -0.2485      0.059     -4.215      0.000      -0.364      -0.133\n",
       "ma.L1         -0.9615      0.018    -53.286      0.000      -0.997      -0.926\n",
       "sigma2      1.352e+04   1025.496     13.184      0.000    1.15e+04    1.55e+04\n",
       "===================================================================================\n",
       "Ljung-Box (L1) (Q):                   0.07   Jarque-Bera (JB):                 3.68\n",
       "Prob(Q):                              0.79   Prob(JB):                         0.16\n",
       "Heteroskedasticity (H):               1.77   Skew:                            -0.03\n",
       "Prob(H) (two-sided):                  0.01   Kurtosis:                         3.55\n",
       "===================================================================================\n",
       "\n",
       "Warnings:\n",
       "[1] Covariance matrix calculated using the outer product of gradients (complex-step).\n",
       "\"\"\""
      ]
     },
     "execution_count": 19,
     "metadata": {},
     "output_type": "execute_result"
    }
   ],
   "source": [
    "model_fit.summary()"
   ]
  },
  {
   "cell_type": "code",
   "execution_count": 20,
   "id": "fa70b58f",
   "metadata": {},
   "outputs": [
    {
     "name": "stdout",
     "output_type": "stream",
     "text": [
      "DATE\n",
      "38346    1015.499070\n",
      "38347     997.890888\n",
      "38348    1001.982022\n",
      "38349    1009.177443\n",
      "38350    1013.121564\n",
      "            ...     \n",
      "38441    1013.034600\n",
      "38442    1013.034600\n",
      "38443    1013.034600\n",
      "38444    1013.034600\n",
      "38445    1013.034600\n",
      "Name: predicted_mean, Length: 100, dtype: float64\n"
     ]
    },
    {
     "name": "stderr",
     "output_type": "stream",
     "text": [
      "C:\\Users\\VEDANG SAWANT\\AppData\\Roaming\\Python\\Python38\\site-packages\\statsmodels\\tsa\\base\\tsa_model.py:390: ValueWarning: No supported index is available. Prediction results will be given with an integer index beginning at `start`.\n",
      "  warnings.warn('No supported index is available.'\n"
     ]
    }
   ],
   "source": [
    "start=len(train)\n",
    "end=len(train)+len(test)-1\n",
    "pred=model_fit.predict(start=start,end=end)\n",
    "pred.index=df.index[start:end+1]\n",
    "print(pred)"
   ]
  },
  {
   "cell_type": "code",
   "execution_count": 21,
   "id": "d38b71b5",
   "metadata": {},
   "outputs": [
    {
     "data": {
      "text/plain": [
       "<AxesSubplot:xlabel='DATE'>"
      ]
     },
     "execution_count": 21,
     "metadata": {},
     "output_type": "execute_result"
    },
    {
     "data": {
      "image/png": "[encoded data removed]",
      "text/plain": [
       "<Figure size 432x288 with 1 Axes>"
      ]
     },
     "metadata": {
      "needs_background": "light"
     },
     "output_type": "display_data"
    }
   ],
   "source": [
    "pred.plot(legend=True)\n",
    "test['NMHC.T'].plot(legend=True)"
   ]
  },
  {
   "cell_type": "code",
   "execution_count": 22,
   "id": "61f4d625",
   "metadata": {},
   "outputs": [
    {
     "data": {
      "text/plain": [
       "209.76686403493903"
      ]
     },
     "execution_count": 22,
     "metadata": {},
     "output_type": "execute_result"
    }
   ],
   "source": [
    "from sklearn.metrics import mean_squared_error\n",
    "from math import sqrt\n",
    "rmse=sqrt(mean_squared_error(pred,test['NMHC.T']))\n",
    "rmse"
   ]
  },
  {
   "cell_type": "markdown",
   "id": "71f8c13f",
   "metadata": {},
   "source": [
    "# NOx.T"
   ]
  },
  {
   "cell_type": "code",
   "execution_count": 23,
   "id": "729c6cfa",
   "metadata": {},
   "outputs": [
    {
     "name": "stdout",
     "output_type": "stream",
     "text": [
      "Performing stepwise search to minimize aic\n",
      " ARIMA(2,1,2)(0,0,0)[0] intercept   : AIC=4896.268, Time=0.35 sec\n",
      " ARIMA(0,1,0)(0,0,0)[0] intercept   : AIC=4986.245, Time=0.01 sec\n",
      " ARIMA(1,1,0)(0,0,0)[0] intercept   : AIC=4986.914, Time=0.02 sec\n",
      " ARIMA(0,1,1)(0,0,0)[0] intercept   : AIC=4985.578, Time=0.02 sec\n",
      " ARIMA(0,1,0)(0,0,0)[0]             : AIC=4984.267, Time=0.01 sec\n",
      " ARIMA(1,1,2)(0,0,0)[0] intercept   : AIC=inf, Time=0.19 sec\n",
      " ARIMA(2,1,1)(0,0,0)[0] intercept   : AIC=inf, Time=0.19 sec\n",
      " ARIMA(3,1,2)(0,0,0)[0] intercept   : AIC=4897.477, Time=0.32 sec\n",
      " ARIMA(2,1,3)(0,0,0)[0] intercept   : AIC=4898.266, Time=0.42 sec\n",
      " ARIMA(1,1,1)(0,0,0)[0] intercept   : AIC=inf, Time=0.13 sec\n",
      " ARIMA(1,1,3)(0,0,0)[0] intercept   : AIC=4896.402, Time=0.27 sec\n",
      " ARIMA(3,1,1)(0,0,0)[0] intercept   : AIC=inf, Time=0.29 sec\n",
      " ARIMA(3,1,3)(0,0,0)[0] intercept   : AIC=4899.298, Time=0.52 sec\n",
      " ARIMA(2,1,2)(0,0,0)[0]             : AIC=4897.451, Time=0.21 sec\n",
      "\n",
      "Best model:  ARIMA(2,1,2)(0,0,0)[0] intercept\n",
      "Total fit time: 2.952 seconds\n"
     ]
    },
    {
     "data": {
      "text/html": [
       "<table class=\"simpletable\">\n",
       "<caption>SARIMAX Results</caption>\n",
       "<tr>\n",
       "  <th>Dep. Variable:</th>           <td>y</td>        <th>  No. Observations:  </th>    <td>391</td>   \n",
       "</tr>\n",
       "<tr>\n",
       "  <th>Model:</th>           <td>SARIMAX(2, 1, 2)</td> <th>  Log Likelihood     </th> <td>-2442.134</td>\n",
       "</tr>\n",
       "<tr>\n",
       "  <th>Date:</th>            <td>Tue, 16 Nov 2021</td> <th>  AIC                </th> <td>4896.268</td> \n",
       "</tr>\n",
       "<tr>\n",
       "  <th>Time:</th>                <td>22:32:11</td>     <th>  BIC                </th> <td>4920.065</td> \n",
       "</tr>\n",
       "<tr>\n",
       "  <th>Sample:</th>                  <td>0</td>        <th>  HQIC               </th> <td>4905.702</td> \n",
       "</tr>\n",
       "<tr>\n",
       "  <th></th>                      <td> - 391</td>      <th>                     </th>     <td> </td>    \n",
       "</tr>\n",
       "<tr>\n",
       "  <th>Covariance Type:</th>        <td>opg</td>       <th>                     </th>     <td> </td>    \n",
       "</tr>\n",
       "</table>\n",
       "<table class=\"simpletable\">\n",
       "<tr>\n",
       "      <td></td>         <th>coef</th>     <th>std err</th>      <th>z</th>      <th>P>|z|</th>  <th>[0.025</th>    <th>0.975]</th>  \n",
       "</tr>\n",
       "<tr>\n",
       "  <th>intercept</th> <td>   -0.3246</td> <td>    0.193</td> <td>   -1.680</td> <td> 0.093</td> <td>   -0.703</td> <td>    0.054</td>\n",
       "</tr>\n",
       "<tr>\n",
       "  <th>ar.L1</th>     <td>    0.7367</td> <td>    0.295</td> <td>    2.499</td> <td> 0.012</td> <td>    0.159</td> <td>    1.314</td>\n",
       "</tr>\n",
       "<tr>\n",
       "  <th>ar.L2</th>     <td>   -0.2222</td> <td>    0.182</td> <td>   -1.220</td> <td> 0.222</td> <td>   -0.579</td> <td>    0.135</td>\n",
       "</tr>\n",
       "<tr>\n",
       "  <th>ma.L1</th>     <td>   -1.0286</td> <td>    0.296</td> <td>   -3.472</td> <td> 0.001</td> <td>   -1.609</td> <td>   -0.448</td>\n",
       "</tr>\n",
       "<tr>\n",
       "  <th>ma.L2</th>     <td>    0.0473</td> <td>    0.292</td> <td>    0.162</td> <td> 0.872</td> <td>   -0.525</td> <td>    0.620</td>\n",
       "</tr>\n",
       "<tr>\n",
       "  <th>sigma2</th>    <td>   1.6e+04</td> <td>  714.579</td> <td>   22.390</td> <td> 0.000</td> <td> 1.46e+04</td> <td> 1.74e+04</td>\n",
       "</tr>\n",
       "</table>\n",
       "<table class=\"simpletable\">\n",
       "<tr>\n",
       "  <th>Ljung-Box (L1) (Q):</th>     <td>0.00</td> <th>  Jarque-Bera (JB):  </th> <td>1280.85</td>\n",
       "</tr>\n",
       "<tr>\n",
       "  <th>Prob(Q):</th>                <td>0.96</td> <th>  Prob(JB):          </th>  <td>0.00</td>  \n",
       "</tr>\n",
       "<tr>\n",
       "  <th>Heteroskedasticity (H):</th> <td>1.98</td> <th>  Skew:              </th>  <td>1.78</td>  \n",
       "</tr>\n",
       "<tr>\n",
       "  <th>Prob(H) (two-sided):</th>    <td>0.00</td> <th>  Kurtosis:          </th>  <td>11.13</td> \n",
       "</tr>\n",
       "</table><br/><br/>Warnings:<br/>[1] Covariance matrix calculated using the outer product of gradients (complex-step)."
      ],
      "text/plain": [
       "<class 'statsmodels.iolib.summary.Summary'>\n",
       "\"\"\"\n",
       "                               SARIMAX Results                                \n",
       "==============================================================================\n",
       "Dep. Variable:                      y   No. Observations:                  391\n",
       "Model:               SARIMAX(2, 1, 2)   Log Likelihood               -2442.134\n",
       "Date:                Tue, 16 Nov 2021   AIC                           4896.268\n",
       "Time:                        22:32:11   BIC                           4920.065\n",
       "Sample:                             0   HQIC                          4905.702\n",
       "                                - 391                                         \n",
       "Covariance Type:                  opg                                         \n",
       "==============================================================================\n",
       "                 coef    std err          z      P>|z|      [0.025      0.975]\n",
       "------------------------------------------------------------------------------\n",
       "intercept     -0.3246      0.193     -1.680      0.093      -0.703       0.054\n",
       "ar.L1          0.7367      0.295      2.499      0.012       0.159       1.314\n",
       "ar.L2         -0.2222      0.182     -1.220      0.222      -0.579       0.135\n",
       "ma.L1         -1.0286      0.296     -3.472      0.001      -1.609      -0.448\n",
       "ma.L2          0.0473      0.292      0.162      0.872      -0.525       0.620\n",
       "sigma2        1.6e+04    714.579     22.390      0.000    1.46e+04    1.74e+04\n",
       "===================================================================================\n",
       "Ljung-Box (L1) (Q):                   0.00   Jarque-Bera (JB):              1280.85\n",
       "Prob(Q):                              0.96   Prob(JB):                         0.00\n",
       "Heteroskedasticity (H):               1.98   Skew:                             1.78\n",
       "Prob(H) (two-sided):                  0.00   Kurtosis:                        11.13\n",
       "===================================================================================\n",
       "\n",
       "Warnings:\n",
       "[1] Covariance matrix calculated using the outer product of gradients (complex-step).\n",
       "\"\"\""
      ]
     },
     "execution_count": 23,
     "metadata": {},
     "output_type": "execute_result"
    }
   ],
   "source": [
    "stepwise_fit=auto_arima(df['NOx.T'],trace=True,suppres_worings=True)\n",
    "stepwise_fit.summary()"
   ]
  },
  {
   "cell_type": "code",
   "execution_count": 24,
   "id": "e46e968f",
   "metadata": {},
   "outputs": [],
   "source": [
    "train=df[1:df.shape[0]-100]\n",
    "test=df[df.shape[0]-100:]"
   ]
  },
  {
   "cell_type": "code",
   "execution_count": 26,
   "id": "a3c9a1fe",
   "metadata": {},
   "outputs": [
    {
     "name": "stderr",
     "output_type": "stream",
     "text": [
      "C:\\Users\\VEDANG SAWANT\\AppData\\Roaming\\Python\\Python38\\site-packages\\statsmodels\\tsa\\base\\tsa_model.py:590: ValueWarning: An unsupported index was provided and will be ignored when e.g. forecasting.\n",
      "  warnings.warn('An unsupported index was provided and will be'\n",
      "C:\\Users\\VEDANG SAWANT\\AppData\\Roaming\\Python\\Python38\\site-packages\\statsmodels\\tsa\\base\\tsa_model.py:590: ValueWarning: An unsupported index was provided and will be ignored when e.g. forecasting.\n",
      "  warnings.warn('An unsupported index was provided and will be'\n",
      "C:\\Users\\VEDANG SAWANT\\AppData\\Roaming\\Python\\Python38\\site-packages\\statsmodels\\tsa\\base\\tsa_model.py:590: ValueWarning: An unsupported index was provided and will be ignored when e.g. forecasting.\n",
      "  warnings.warn('An unsupported index was provided and will be'\n",
      "C:\\Users\\VEDANG SAWANT\\AppData\\Roaming\\Python\\Python38\\site-packages\\statsmodels\\tsa\\statespace\\sarimax.py:978: UserWarning: Non-invertible starting MA parameters found. Using zeros as starting parameters.\n",
      "  warn('Non-invertible starting MA parameters found.'\n"
     ]
    },
    {
     "data": {
      "text/plain": [
       "<statsmodels.tsa.arima.model.ARIMA at 0x1603e62f700>"
      ]
     },
     "execution_count": 26,
     "metadata": {},
     "output_type": "execute_result"
    }
   ],
   "source": [
    "from statsmodels.tsa.arima.model import ARIMA\n",
    "model=ARIMA(train['NOx.T'],order=(2,1,2))\n",
    "model_fit=model.fit()\n",
    "model"
   ]
  },
  {
   "cell_type": "code",
   "execution_count": 27,
   "id": "3126e85a",
   "metadata": {},
   "outputs": [
    {
     "data": {
      "text/html": [
       "<table class=\"simpletable\">\n",
       "<caption>SARIMAX Results</caption>\n",
       "<tr>\n",
       "  <th>Dep. Variable:</th>         <td>NOx.T</td>      <th>  No. Observations:  </th>    <td>290</td>   \n",
       "</tr>\n",
       "<tr>\n",
       "  <th>Model:</th>            <td>ARIMA(2, 1, 2)</td>  <th>  Log Likelihood     </th> <td>-1817.597</td>\n",
       "</tr>\n",
       "<tr>\n",
       "  <th>Date:</th>            <td>Tue, 16 Nov 2021</td> <th>  AIC                </th> <td>3645.193</td> \n",
       "</tr>\n",
       "<tr>\n",
       "  <th>Time:</th>                <td>22:33:14</td>     <th>  BIC                </th> <td>3663.525</td> \n",
       "</tr>\n",
       "<tr>\n",
       "  <th>Sample:</th>                  <td>0</td>        <th>  HQIC               </th> <td>3652.539</td> \n",
       "</tr>\n",
       "<tr>\n",
       "  <th></th>                      <td> - 290</td>      <th>                     </th>     <td> </td>    \n",
       "</tr>\n",
       "<tr>\n",
       "  <th>Covariance Type:</th>        <td>opg</td>       <th>                     </th>     <td> </td>    \n",
       "</tr>\n",
       "</table>\n",
       "<table class=\"simpletable\">\n",
       "<tr>\n",
       "     <td></td>       <th>coef</th>     <th>std err</th>      <th>z</th>      <th>P>|z|</th>  <th>[0.025</th>    <th>0.975]</th>  \n",
       "</tr>\n",
       "<tr>\n",
       "  <th>ar.L1</th>  <td>    0.8683</td> <td>    0.316</td> <td>    2.752</td> <td> 0.006</td> <td>    0.250</td> <td>    1.487</td>\n",
       "</tr>\n",
       "<tr>\n",
       "  <th>ar.L2</th>  <td>   -0.3240</td> <td>    0.171</td> <td>   -1.892</td> <td> 0.059</td> <td>   -0.660</td> <td>    0.012</td>\n",
       "</tr>\n",
       "<tr>\n",
       "  <th>ma.L1</th>  <td>   -1.2025</td> <td>    0.326</td> <td>   -3.692</td> <td> 0.000</td> <td>   -1.841</td> <td>   -0.564</td>\n",
       "</tr>\n",
       "<tr>\n",
       "  <th>ma.L2</th>  <td>    0.2406</td> <td>    0.314</td> <td>    0.765</td> <td> 0.444</td> <td>   -0.376</td> <td>    0.857</td>\n",
       "</tr>\n",
       "<tr>\n",
       "  <th>sigma2</th> <td> 1.691e+04</td> <td>  607.299</td> <td>   27.843</td> <td> 0.000</td> <td> 1.57e+04</td> <td> 1.81e+04</td>\n",
       "</tr>\n",
       "</table>\n",
       "<table class=\"simpletable\">\n",
       "<tr>\n",
       "  <th>Ljung-Box (L1) (Q):</th>     <td>0.00</td> <th>  Jarque-Bera (JB):  </th> <td>1501.81</td>\n",
       "</tr>\n",
       "<tr>\n",
       "  <th>Prob(Q):</th>                <td>0.96</td> <th>  Prob(JB):          </th>  <td>0.00</td>  \n",
       "</tr>\n",
       "<tr>\n",
       "  <th>Heteroskedasticity (H):</th> <td>2.55</td> <th>  Skew:              </th>  <td>2.15</td>  \n",
       "</tr>\n",
       "<tr>\n",
       "  <th>Prob(H) (two-sided):</th>    <td>0.00</td> <th>  Kurtosis:          </th>  <td>13.30</td> \n",
       "</tr>\n",
       "</table><br/><br/>Warnings:<br/>[1] Covariance matrix calculated using the outer product of gradients (complex-step)."
      ],
      "text/plain": [
       "<class 'statsmodels.iolib.summary.Summary'>\n",
       "\"\"\"\n",
       "                               SARIMAX Results                                \n",
       "==============================================================================\n",
       "Dep. Variable:                  NOx.T   No. Observations:                  290\n",
       "Model:                 ARIMA(2, 1, 2)   Log Likelihood               -1817.597\n",
       "Date:                Tue, 16 Nov 2021   AIC                           3645.193\n",
       "Time:                        22:33:14   BIC                           3663.525\n",
       "Sample:                             0   HQIC                          3652.539\n",
       "                                - 290                                         \n",
       "Covariance Type:                  opg                                         \n",
       "==============================================================================\n",
       "                 coef    std err          z      P>|z|      [0.025      0.975]\n",
       "------------------------------------------------------------------------------\n",
       "ar.L1          0.8683      0.316      2.752      0.006       0.250       1.487\n",
       "ar.L2         -0.3240      0.171     -1.892      0.059      -0.660       0.012\n",
       "ma.L1         -1.2025      0.326     -3.692      0.000      -1.841      -0.564\n",
       "ma.L2          0.2406      0.314      0.765      0.444      -0.376       0.857\n",
       "sigma2      1.691e+04    607.299     27.843      0.000    1.57e+04    1.81e+04\n",
       "===================================================================================\n",
       "Ljung-Box (L1) (Q):                   0.00   Jarque-Bera (JB):              1501.81\n",
       "Prob(Q):                              0.96   Prob(JB):                         0.00\n",
       "Heteroskedasticity (H):               2.55   Skew:                             2.15\n",
       "Prob(H) (two-sided):                  0.00   Kurtosis:                        13.30\n",
       "===================================================================================\n",
       "\n",
       "Warnings:\n",
       "[1] Covariance matrix calculated using the outer product of gradients (complex-step).\n",
       "\"\"\""
      ]
     },
     "execution_count": 27,
     "metadata": {},
     "output_type": "execute_result"
    }
   ],
   "source": [
    "model_fit.summary()"
   ]
  },
  {
   "cell_type": "code",
   "execution_count": 28,
   "id": "12f0602b",
   "metadata": {},
   "outputs": [
    {
     "name": "stdout",
     "output_type": "stream",
     "text": [
      "DATE\n",
      "38346    698.287392\n",
      "38347    783.988377\n",
      "38348    815.961331\n",
      "38349    815.954801\n",
      "38350    805.589209\n",
      "            ...    \n",
      "38441    793.213499\n",
      "38442    793.213499\n",
      "38443    793.213499\n",
      "38444    793.213499\n",
      "38445    793.213499\n",
      "Name: predicted_mean, Length: 100, dtype: float64\n"
     ]
    },
    {
     "name": "stderr",
     "output_type": "stream",
     "text": [
      "C:\\Users\\VEDANG SAWANT\\AppData\\Roaming\\Python\\Python38\\site-packages\\statsmodels\\tsa\\base\\tsa_model.py:390: ValueWarning: No supported index is available. Prediction results will be given with an integer index beginning at `start`.\n",
      "  warnings.warn('No supported index is available.'\n"
     ]
    }
   ],
   "source": [
    "start=len(train)\n",
    "end=len(train)+len(test)-1\n",
    "pred=model_fit.predict(start=start,end=end)\n",
    "pred.index=df.index[start:end+1]\n",
    "print(pred)"
   ]
  },
  {
   "cell_type": "code",
   "execution_count": 29,
   "id": "e2a5c412",
   "metadata": {},
   "outputs": [
    {
     "data": {
      "text/plain": [
       "<AxesSubplot:xlabel='DATE'>"
      ]
     },
     "execution_count": 29,
     "metadata": {},
     "output_type": "execute_result"
    },
    {
     "data": {
      "image/png": "[encoded data removed]",
      "text/plain": [
       "<Figure size 432x288 with 1 Axes>"
      ]
     },
     "metadata": {
      "needs_background": "light"
     },
     "output_type": "display_data"
    }
   ],
   "source": [
    "pred.plot(legend=True)\n",
    "test['NOx.T'].plot(legend=True)"
   ]
  },
  {
   "cell_type": "code",
   "execution_count": 30,
   "id": "441f7307",
   "metadata": {},
   "outputs": [
    {
     "data": {
      "text/plain": [
       "163.27950411508115"
      ]
     },
     "execution_count": 30,
     "metadata": {},
     "output_type": "execute_result"
    }
   ],
   "source": [
    "from sklearn.metrics import mean_squared_error\n",
    "from math import sqrt\n",
    "rmse=sqrt(mean_squared_error(pred,test['NOx.T']))\n",
    "rmse"
   ]
  },
  {
   "cell_type": "markdown",
   "id": "872a3127",
   "metadata": {},
   "source": [
    "# NO2"
   ]
  },
  {
   "cell_type": "code",
   "execution_count": 31,
   "id": "cd0f4ca0",
   "metadata": {},
   "outputs": [
    {
     "name": "stdout",
     "output_type": "stream",
     "text": [
      "Performing stepwise search to minimize aic\n",
      " ARIMA(2,1,2)(0,0,0)[0] intercept   : AIC=4913.767, Time=0.34 sec\n",
      " ARIMA(0,1,0)(0,0,0)[0] intercept   : AIC=4987.645, Time=0.01 sec\n",
      " ARIMA(1,1,0)(0,0,0)[0] intercept   : AIC=4987.708, Time=0.02 sec\n",
      " ARIMA(0,1,1)(0,0,0)[0] intercept   : AIC=4986.086, Time=0.06 sec\n",
      " ARIMA(0,1,0)(0,0,0)[0]             : AIC=4985.661, Time=0.01 sec\n",
      " ARIMA(1,1,2)(0,0,0)[0] intercept   : AIC=4913.896, Time=0.21 sec\n",
      " ARIMA(2,1,1)(0,0,0)[0] intercept   : AIC=4911.999, Time=0.18 sec\n",
      " ARIMA(1,1,1)(0,0,0)[0] intercept   : AIC=4940.623, Time=0.14 sec\n",
      " ARIMA(2,1,0)(0,0,0)[0] intercept   : AIC=4964.596, Time=0.03 sec\n",
      " ARIMA(3,1,1)(0,0,0)[0] intercept   : AIC=4913.835, Time=0.27 sec\n",
      " ARIMA(3,1,0)(0,0,0)[0] intercept   : AIC=4957.714, Time=0.04 sec\n",
      " ARIMA(3,1,2)(0,0,0)[0] intercept   : AIC=4915.669, Time=0.43 sec\n",
      " ARIMA(2,1,1)(0,0,0)[0]             : AIC=4910.862, Time=0.10 sec\n",
      " ARIMA(1,1,1)(0,0,0)[0]             : AIC=4940.268, Time=0.08 sec\n",
      " ARIMA(2,1,0)(0,0,0)[0]             : AIC=4962.627, Time=0.02 sec\n",
      " ARIMA(3,1,1)(0,0,0)[0]             : AIC=4912.758, Time=0.15 sec\n",
      " ARIMA(2,1,2)(0,0,0)[0]             : AIC=4912.708, Time=0.20 sec\n",
      " ARIMA(1,1,0)(0,0,0)[0]             : AIC=4985.721, Time=0.01 sec\n",
      " ARIMA(1,1,2)(0,0,0)[0]             : AIC=4913.112, Time=0.10 sec\n",
      " ARIMA(3,1,0)(0,0,0)[0]             : AIC=4955.762, Time=0.02 sec\n",
      " ARIMA(3,1,2)(0,0,0)[0]             : AIC=4914.592, Time=0.26 sec\n",
      "\n",
      "Best model:  ARIMA(2,1,1)(0,0,0)[0]          \n",
      "Total fit time: 2.686 seconds\n"
     ]
    },
    {
     "data": {
      "text/html": [
       "<table class=\"simpletable\">\n",
       "<caption>SARIMAX Results</caption>\n",
       "<tr>\n",
       "  <th>Dep. Variable:</th>           <td>y</td>        <th>  No. Observations:  </th>    <td>391</td>   \n",
       "</tr>\n",
       "<tr>\n",
       "  <th>Model:</th>           <td>SARIMAX(2, 1, 1)</td> <th>  Log Likelihood     </th> <td>-2451.431</td>\n",
       "</tr>\n",
       "<tr>\n",
       "  <th>Date:</th>            <td>Tue, 16 Nov 2021</td> <th>  AIC                </th> <td>4910.862</td> \n",
       "</tr>\n",
       "<tr>\n",
       "  <th>Time:</th>                <td>22:34:54</td>     <th>  BIC                </th> <td>4926.727</td> \n",
       "</tr>\n",
       "<tr>\n",
       "  <th>Sample:</th>                  <td>0</td>        <th>  HQIC               </th> <td>4917.151</td> \n",
       "</tr>\n",
       "<tr>\n",
       "  <th></th>                      <td> - 391</td>      <th>                     </th>     <td> </td>    \n",
       "</tr>\n",
       "<tr>\n",
       "  <th>Covariance Type:</th>        <td>opg</td>       <th>                     </th>     <td> </td>    \n",
       "</tr>\n",
       "</table>\n",
       "<table class=\"simpletable\">\n",
       "<tr>\n",
       "     <td></td>       <th>coef</th>     <th>std err</th>      <th>z</th>      <th>P>|z|</th>  <th>[0.025</th>    <th>0.975]</th>  \n",
       "</tr>\n",
       "<tr>\n",
       "  <th>ar.L1</th>  <td>    0.8401</td> <td>    0.055</td> <td>   15.145</td> <td> 0.000</td> <td>    0.731</td> <td>    0.949</td>\n",
       "</tr>\n",
       "<tr>\n",
       "  <th>ar.L2</th>  <td>   -0.2909</td> <td>    0.053</td> <td>   -5.516</td> <td> 0.000</td> <td>   -0.394</td> <td>   -0.188</td>\n",
       "</tr>\n",
       "<tr>\n",
       "  <th>ma.L1</th>  <td>   -0.9222</td> <td>    0.022</td> <td>  -42.564</td> <td> 0.000</td> <td>   -0.965</td> <td>   -0.880</td>\n",
       "</tr>\n",
       "<tr>\n",
       "  <th>sigma2</th> <td> 1.682e+04</td> <td> 1023.925</td> <td>   16.428</td> <td> 0.000</td> <td> 1.48e+04</td> <td> 1.88e+04</td>\n",
       "</tr>\n",
       "</table>\n",
       "<table class=\"simpletable\">\n",
       "<tr>\n",
       "  <th>Ljung-Box (L1) (Q):</th>     <td>0.00</td> <th>  Jarque-Bera (JB):  </th> <td>16.88</td>\n",
       "</tr>\n",
       "<tr>\n",
       "  <th>Prob(Q):</th>                <td>0.96</td> <th>  Prob(JB):          </th> <td>0.00</td> \n",
       "</tr>\n",
       "<tr>\n",
       "  <th>Heteroskedasticity (H):</th> <td>1.52</td> <th>  Skew:              </th> <td>-0.34</td>\n",
       "</tr>\n",
       "<tr>\n",
       "  <th>Prob(H) (two-sided):</th>    <td>0.02</td> <th>  Kurtosis:          </th> <td>3.76</td> \n",
       "</tr>\n",
       "</table><br/><br/>Warnings:<br/>[1] Covariance matrix calculated using the outer product of gradients (complex-step)."
      ],
      "text/plain": [
       "<class 'statsmodels.iolib.summary.Summary'>\n",
       "\"\"\"\n",
       "                               SARIMAX Results                                \n",
       "==============================================================================\n",
       "Dep. Variable:                      y   No. Observations:                  391\n",
       "Model:               SARIMAX(2, 1, 1)   Log Likelihood               -2451.431\n",
       "Date:                Tue, 16 Nov 2021   AIC                           4910.862\n",
       "Time:                        22:34:54   BIC                           4926.727\n",
       "Sample:                             0   HQIC                          4917.151\n",
       "                                - 391                                         \n",
       "Covariance Type:                  opg                                         \n",
       "==============================================================================\n",
       "                 coef    std err          z      P>|z|      [0.025      0.975]\n",
       "------------------------------------------------------------------------------\n",
       "ar.L1          0.8401      0.055     15.145      0.000       0.731       0.949\n",
       "ar.L2         -0.2909      0.053     -5.516      0.000      -0.394      -0.188\n",
       "ma.L1         -0.9222      0.022    -42.564      0.000      -0.965      -0.880\n",
       "sigma2      1.682e+04   1023.925     16.428      0.000    1.48e+04    1.88e+04\n",
       "===================================================================================\n",
       "Ljung-Box (L1) (Q):                   0.00   Jarque-Bera (JB):                16.88\n",
       "Prob(Q):                              0.96   Prob(JB):                         0.00\n",
       "Heteroskedasticity (H):               1.52   Skew:                            -0.34\n",
       "Prob(H) (two-sided):                  0.02   Kurtosis:                         3.76\n",
       "===================================================================================\n",
       "\n",
       "Warnings:\n",
       "[1] Covariance matrix calculated using the outer product of gradients (complex-step).\n",
       "\"\"\""
      ]
     },
     "execution_count": 31,
     "metadata": {},
     "output_type": "execute_result"
    }
   ],
   "source": [
    "stepwise_fit=auto_arima(df['NO2.T'],trace=True,suppres_worings=True)\n",
    "stepwise_fit.summary()"
   ]
  },
  {
   "cell_type": "code",
   "execution_count": 32,
   "id": "e3192150",
   "metadata": {},
   "outputs": [],
   "source": [
    "train=df[1:df.shape[0]-100]\n",
    "test=df[df.shape[0]-100:]"
   ]
  },
  {
   "cell_type": "code",
   "execution_count": 43,
   "id": "05739c5d",
   "metadata": {},
   "outputs": [
    {
     "name": "stderr",
     "output_type": "stream",
     "text": [
      "C:\\Users\\VEDANG SAWANT\\AppData\\Roaming\\Python\\Python38\\site-packages\\statsmodels\\tsa\\base\\tsa_model.py:590: ValueWarning: An unsupported index was provided and will be ignored when e.g. forecasting.\n",
      "  warnings.warn('An unsupported index was provided and will be'\n",
      "C:\\Users\\VEDANG SAWANT\\AppData\\Roaming\\Python\\Python38\\site-packages\\statsmodels\\tsa\\base\\tsa_model.py:590: ValueWarning: An unsupported index was provided and will be ignored when e.g. forecasting.\n",
      "  warnings.warn('An unsupported index was provided and will be'\n",
      "C:\\Users\\VEDANG SAWANT\\AppData\\Roaming\\Python\\Python38\\site-packages\\statsmodels\\tsa\\base\\tsa_model.py:590: ValueWarning: An unsupported index was provided and will be ignored when e.g. forecasting.\n",
      "  warnings.warn('An unsupported index was provided and will be'\n"
     ]
    },
    {
     "data": {
      "text/plain": [
       "<statsmodels.tsa.arima.model.ARIMA at 0x1603d259cd0>"
      ]
     },
     "execution_count": 43,
     "metadata": {},
     "output_type": "execute_result"
    }
   ],
   "source": [
    "from statsmodels.tsa.arima.model import ARIMA\n",
    "model=ARIMA(train['NO2.T'],order=(2,1,1))\n",
    "model_fit=model.fit()\n",
    "model"
   ]
  },
  {
   "cell_type": "code",
   "execution_count": 44,
   "id": "d243359b",
   "metadata": {},
   "outputs": [
    {
     "data": {
      "text/html": [
       "<table class=\"simpletable\">\n",
       "<caption>SARIMAX Results</caption>\n",
       "<tr>\n",
       "  <th>Dep. Variable:</th>         <td>NO2.T</td>      <th>  No. Observations:  </th>    <td>290</td>   \n",
       "</tr>\n",
       "<tr>\n",
       "  <th>Model:</th>            <td>ARIMA(2, 1, 1)</td>  <th>  Log Likelihood     </th> <td>-1817.415</td>\n",
       "</tr>\n",
       "<tr>\n",
       "  <th>Date:</th>            <td>Tue, 16 Nov 2021</td> <th>  AIC                </th> <td>3642.830</td> \n",
       "</tr>\n",
       "<tr>\n",
       "  <th>Time:</th>                <td>22:44:56</td>     <th>  BIC                </th> <td>3657.495</td> \n",
       "</tr>\n",
       "<tr>\n",
       "  <th>Sample:</th>                  <td>0</td>        <th>  HQIC               </th> <td>3648.706</td> \n",
       "</tr>\n",
       "<tr>\n",
       "  <th></th>                      <td> - 290</td>      <th>                     </th>     <td> </td>    \n",
       "</tr>\n",
       "<tr>\n",
       "  <th>Covariance Type:</th>        <td>opg</td>       <th>                     </th>     <td> </td>    \n",
       "</tr>\n",
       "</table>\n",
       "<table class=\"simpletable\">\n",
       "<tr>\n",
       "     <td></td>       <th>coef</th>     <th>std err</th>      <th>z</th>      <th>P>|z|</th>  <th>[0.025</th>    <th>0.975]</th>  \n",
       "</tr>\n",
       "<tr>\n",
       "  <th>ar.L1</th>  <td>    0.8225</td> <td>    0.064</td> <td>   12.813</td> <td> 0.000</td> <td>    0.697</td> <td>    0.948</td>\n",
       "</tr>\n",
       "<tr>\n",
       "  <th>ar.L2</th>  <td>   -0.2936</td> <td>    0.060</td> <td>   -4.919</td> <td> 0.000</td> <td>   -0.411</td> <td>   -0.177</td>\n",
       "</tr>\n",
       "<tr>\n",
       "  <th>ma.L1</th>  <td>   -0.9330</td> <td>    0.022</td> <td>  -42.677</td> <td> 0.000</td> <td>   -0.976</td> <td>   -0.890</td>\n",
       "</tr>\n",
       "<tr>\n",
       "  <th>sigma2</th> <td>  1.69e+04</td> <td> 1114.878</td> <td>   15.154</td> <td> 0.000</td> <td> 1.47e+04</td> <td> 1.91e+04</td>\n",
       "</tr>\n",
       "</table>\n",
       "<table class=\"simpletable\">\n",
       "<tr>\n",
       "  <th>Ljung-Box (L1) (Q):</th>     <td>0.00</td> <th>  Jarque-Bera (JB):  </th> <td>32.23</td>\n",
       "</tr>\n",
       "<tr>\n",
       "  <th>Prob(Q):</th>                <td>0.99</td> <th>  Prob(JB):          </th> <td>0.00</td> \n",
       "</tr>\n",
       "<tr>\n",
       "  <th>Heteroskedasticity (H):</th> <td>1.91</td> <th>  Skew:              </th> <td>-0.53</td>\n",
       "</tr>\n",
       "<tr>\n",
       "  <th>Prob(H) (two-sided):</th>    <td>0.00</td> <th>  Kurtosis:          </th> <td>4.25</td> \n",
       "</tr>\n",
       "</table><br/><br/>Warnings:<br/>[1] Covariance matrix calculated using the outer product of gradients (complex-step)."
      ],
      "text/plain": [
       "<class 'statsmodels.iolib.summary.Summary'>\n",
       "\"\"\"\n",
       "                               SARIMAX Results                                \n",
       "==============================================================================\n",
       "Dep. Variable:                  NO2.T   No. Observations:                  290\n",
       "Model:                 ARIMA(2, 1, 1)   Log Likelihood               -1817.415\n",
       "Date:                Tue, 16 Nov 2021   AIC                           3642.830\n",
       "Time:                        22:44:56   BIC                           3657.495\n",
       "Sample:                             0   HQIC                          3648.706\n",
       "                                - 290                                         \n",
       "Covariance Type:                  opg                                         \n",
       "==============================================================================\n",
       "                 coef    std err          z      P>|z|      [0.025      0.975]\n",
       "------------------------------------------------------------------------------\n",
       "ar.L1          0.8225      0.064     12.813      0.000       0.697       0.948\n",
       "ar.L2         -0.2936      0.060     -4.919      0.000      -0.411      -0.177\n",
       "ma.L1         -0.9330      0.022    -42.677      0.000      -0.976      -0.890\n",
       "sigma2       1.69e+04   1114.878     15.154      0.000    1.47e+04    1.91e+04\n",
       "===================================================================================\n",
       "Ljung-Box (L1) (Q):                   0.00   Jarque-Bera (JB):                32.23\n",
       "Prob(Q):                              0.99   Prob(JB):                         0.00\n",
       "Heteroskedasticity (H):               1.91   Skew:                            -0.53\n",
       "Prob(H) (two-sided):                  0.00   Kurtosis:                         4.25\n",
       "===================================================================================\n",
       "\n",
       "Warnings:\n",
       "[1] Covariance matrix calculated using the outer product of gradients (complex-step).\n",
       "\"\"\""
      ]
     },
     "execution_count": 44,
     "metadata": {},
     "output_type": "execute_result"
    }
   ],
   "source": [
    "model_fit.summary()"
   ]
  },
  {
   "cell_type": "code",
   "execution_count": 45,
   "id": "bee2a985",
   "metadata": {},
   "outputs": [
    {
     "name": "stdout",
     "output_type": "stream",
     "text": [
      "DATE\n",
      "38346    1344.637782\n",
      "38347    1305.852566\n",
      "38348    1287.009144\n",
      "38349    1282.899099\n",
      "38350    1285.051497\n",
      "            ...     \n",
      "38441    1290.028833\n",
      "38442    1290.028833\n",
      "38443    1290.028833\n",
      "38444    1290.028833\n",
      "38445    1290.028833\n",
      "Name: predicted_mean, Length: 100, dtype: float64\n"
     ]
    },
    {
     "name": "stderr",
     "output_type": "stream",
     "text": [
      "C:\\Users\\VEDANG SAWANT\\AppData\\Roaming\\Python\\Python38\\site-packages\\statsmodels\\tsa\\base\\tsa_model.py:390: ValueWarning: No supported index is available. Prediction results will be given with an integer index beginning at `start`.\n",
      "  warnings.warn('No supported index is available.'\n"
     ]
    }
   ],
   "source": [
    "start=len(train)\n",
    "end=len(train)+len(test)-1\n",
    "pred=model_fit.predict(start=start,end=end)\n",
    "pred.index=df.index[start:end+1]\n",
    "print(pred)"
   ]
  },
  {
   "cell_type": "code",
   "execution_count": 46,
   "id": "43641abe",
   "metadata": {},
   "outputs": [
    {
     "data": {
      "text/plain": [
       "<AxesSubplot:xlabel='DATE'>"
      ]
     },
     "execution_count": 46,
     "metadata": {},
     "output_type": "execute_result"
    },
    {
     "data": {
      "image/png": "[encoded data removed]",
      "text/plain": [
       "<Figure size 432x288 with 1 Axes>"
      ]
     },
     "metadata": {
      "needs_background": "light"
     },
     "output_type": "display_data"
    }
   ],
   "source": [
    "pred.plot(legend=True)\n",
    "test['NO2.T'].plot(legend=True)"
   ]
  },
  {
   "cell_type": "code",
   "execution_count": 47,
   "id": "1f7e7d84",
   "metadata": {},
   "outputs": [
    {
     "data": {
      "text/plain": [
       "248.84797960459392"
      ]
     },
     "execution_count": 47,
     "metadata": {},
     "output_type": "execute_result"
    }
   ],
   "source": [
    "from sklearn.metrics import mean_squared_error\n",
    "from math import sqrt\n",
    "rmse=sqrt(mean_squared_error(pred,test['NO2.T']))\n",
    "rmse"
   ]
  },
  {
   "cell_type": "markdown",
   "id": "6b37939a",
   "metadata": {},
   "source": [
    "# C6H6"
   ]
  },
  {
   "cell_type": "code",
   "execution_count": 51,
   "id": "ebd03db8",
   "metadata": {},
   "outputs": [
    {
     "name": "stdout",
     "output_type": "stream",
     "text": [
      "Performing stepwise search to minimize aic\n",
      " ARIMA(2,0,2)(0,0,0)[0] intercept   : AIC=2069.260, Time=0.36 sec\n",
      " ARIMA(0,0,0)(0,0,0)[0] intercept   : AIC=2250.361, Time=0.01 sec\n",
      " ARIMA(1,0,0)(0,0,0)[0] intercept   : AIC=2076.394, Time=0.04 sec\n",
      " ARIMA(0,0,1)(0,0,0)[0] intercept   : AIC=2093.260, Time=0.04 sec\n",
      " ARIMA(0,0,0)(0,0,0)[0]             : AIC=2987.644, Time=0.00 sec\n",
      " ARIMA(1,0,2)(0,0,0)[0] intercept   : AIC=2067.353, Time=0.12 sec\n",
      " ARIMA(0,0,2)(0,0,0)[0] intercept   : AIC=2067.033, Time=0.06 sec\n",
      " ARIMA(0,0,3)(0,0,0)[0] intercept   : AIC=2068.015, Time=0.08 sec\n",
      " ARIMA(1,0,1)(0,0,0)[0] intercept   : AIC=2066.052, Time=0.08 sec\n",
      " ARIMA(2,0,1)(0,0,0)[0] intercept   : AIC=2067.411, Time=0.22 sec\n",
      " ARIMA(2,0,0)(0,0,0)[0] intercept   : AIC=2065.492, Time=0.05 sec\n",
      " ARIMA(3,0,0)(0,0,0)[0] intercept   : AIC=2067.396, Time=0.10 sec\n",
      " ARIMA(3,0,1)(0,0,0)[0] intercept   : AIC=2069.404, Time=0.11 sec\n",
      " ARIMA(2,0,0)(0,0,0)[0]             : AIC=2152.948, Time=0.02 sec\n",
      "\n",
      "Best model:  ARIMA(2,0,0)(0,0,0)[0] intercept\n",
      "Total fit time: 1.298 seconds\n"
     ]
    },
    {
     "data": {
      "text/html": [
       "<table class=\"simpletable\">\n",
       "<caption>SARIMAX Results</caption>\n",
       "<tr>\n",
       "  <th>Dep. Variable:</th>           <td>y</td>        <th>  No. Observations:  </th>    <td>391</td>   \n",
       "</tr>\n",
       "<tr>\n",
       "  <th>Model:</th>           <td>SARIMAX(2, 0, 0)</td> <th>  Log Likelihood     </th> <td>-1028.746</td>\n",
       "</tr>\n",
       "<tr>\n",
       "  <th>Date:</th>            <td>Tue, 16 Nov 2021</td> <th>  AIC                </th> <td>2065.492</td> \n",
       "</tr>\n",
       "<tr>\n",
       "  <th>Time:</th>                <td>22:45:50</td>     <th>  BIC                </th> <td>2081.367</td> \n",
       "</tr>\n",
       "<tr>\n",
       "  <th>Sample:</th>                  <td>0</td>        <th>  HQIC               </th> <td>2071.784</td> \n",
       "</tr>\n",
       "<tr>\n",
       "  <th></th>                      <td> - 391</td>      <th>                     </th>     <td> </td>    \n",
       "</tr>\n",
       "<tr>\n",
       "  <th>Covariance Type:</th>        <td>opg</td>       <th>                     </th>     <td> </td>    \n",
       "</tr>\n",
       "</table>\n",
       "<table class=\"simpletable\">\n",
       "<tr>\n",
       "      <td></td>         <th>coef</th>     <th>std err</th>      <th>z</th>      <th>P>|z|</th>  <th>[0.025</th>    <th>0.975]</th>  \n",
       "</tr>\n",
       "<tr>\n",
       "  <th>intercept</th> <td>    4.7741</td> <td>    0.508</td> <td>    9.402</td> <td> 0.000</td> <td>    3.779</td> <td>    5.769</td>\n",
       "</tr>\n",
       "<tr>\n",
       "  <th>ar.L1</th>     <td>    0.7098</td> <td>    0.048</td> <td>   14.876</td> <td> 0.000</td> <td>    0.616</td> <td>    0.803</td>\n",
       "</tr>\n",
       "<tr>\n",
       "  <th>ar.L2</th>     <td>   -0.1804</td> <td>    0.047</td> <td>   -3.875</td> <td> 0.000</td> <td>   -0.272</td> <td>   -0.089</td>\n",
       "</tr>\n",
       "<tr>\n",
       "  <th>sigma2</th>    <td>   11.2788</td> <td>    0.746</td> <td>   15.129</td> <td> 0.000</td> <td>    9.818</td> <td>   12.740</td>\n",
       "</tr>\n",
       "</table>\n",
       "<table class=\"simpletable\">\n",
       "<tr>\n",
       "  <th>Ljung-Box (L1) (Q):</th>     <td>0.01</td> <th>  Jarque-Bera (JB):  </th> <td>28.36</td>\n",
       "</tr>\n",
       "<tr>\n",
       "  <th>Prob(Q):</th>                <td>0.93</td> <th>  Prob(JB):          </th> <td>0.00</td> \n",
       "</tr>\n",
       "<tr>\n",
       "  <th>Heteroskedasticity (H):</th> <td>1.61</td> <th>  Skew:              </th> <td>0.57</td> \n",
       "</tr>\n",
       "<tr>\n",
       "  <th>Prob(H) (two-sided):</th>    <td>0.01</td> <th>  Kurtosis:          </th> <td>3.67</td> \n",
       "</tr>\n",
       "</table><br/><br/>Warnings:<br/>[1] Covariance matrix calculated using the outer product of gradients (complex-step)."
      ],
      "text/plain": [
       "<class 'statsmodels.iolib.summary.Summary'>\n",
       "\"\"\"\n",
       "                               SARIMAX Results                                \n",
       "==============================================================================\n",
       "Dep. Variable:                      y   No. Observations:                  391\n",
       "Model:               SARIMAX(2, 0, 0)   Log Likelihood               -1028.746\n",
       "Date:                Tue, 16 Nov 2021   AIC                           2065.492\n",
       "Time:                        22:45:50   BIC                           2081.367\n",
       "Sample:                             0   HQIC                          2071.784\n",
       "                                - 391                                         \n",
       "Covariance Type:                  opg                                         \n",
       "==============================================================================\n",
       "                 coef    std err          z      P>|z|      [0.025      0.975]\n",
       "------------------------------------------------------------------------------\n",
       "intercept      4.7741      0.508      9.402      0.000       3.779       5.769\n",
       "ar.L1          0.7098      0.048     14.876      0.000       0.616       0.803\n",
       "ar.L2         -0.1804      0.047     -3.875      0.000      -0.272      -0.089\n",
       "sigma2        11.2788      0.746     15.129      0.000       9.818      12.740\n",
       "===================================================================================\n",
       "Ljung-Box (L1) (Q):                   0.01   Jarque-Bera (JB):                28.36\n",
       "Prob(Q):                              0.93   Prob(JB):                         0.00\n",
       "Heteroskedasticity (H):               1.61   Skew:                             0.57\n",
       "Prob(H) (two-sided):                  0.01   Kurtosis:                         3.67\n",
       "===================================================================================\n",
       "\n",
       "Warnings:\n",
       "[1] Covariance matrix calculated using the outer product of gradients (complex-step).\n",
       "\"\"\""
      ]
     },
     "execution_count": 51,
     "metadata": {},
     "output_type": "execute_result"
    }
   ],
   "source": [
    "stepwise_fit=auto_arima(df['C6H6.R'],trace=True,suppres_worings=True)\n",
    "stepwise_fit.summary()"
   ]
  },
  {
   "cell_type": "code",
   "execution_count": 52,
   "id": "2da7713f",
   "metadata": {},
   "outputs": [],
   "source": [
    "train=df[1:df.shape[0]-100]\n",
    "test=df[df.shape[0]-100:]"
   ]
  },
  {
   "cell_type": "code",
   "execution_count": 53,
   "id": "d04fa151",
   "metadata": {},
   "outputs": [
    {
     "name": "stderr",
     "output_type": "stream",
     "text": [
      "C:\\Users\\VEDANG SAWANT\\AppData\\Roaming\\Python\\Python38\\site-packages\\statsmodels\\tsa\\base\\tsa_model.py:590: ValueWarning: An unsupported index was provided and will be ignored when e.g. forecasting.\n",
      "  warnings.warn('An unsupported index was provided and will be'\n",
      "C:\\Users\\VEDANG SAWANT\\AppData\\Roaming\\Python\\Python38\\site-packages\\statsmodels\\tsa\\base\\tsa_model.py:590: ValueWarning: An unsupported index was provided and will be ignored when e.g. forecasting.\n",
      "  warnings.warn('An unsupported index was provided and will be'\n",
      "C:\\Users\\VEDANG SAWANT\\AppData\\Roaming\\Python\\Python38\\site-packages\\statsmodels\\tsa\\base\\tsa_model.py:590: ValueWarning: An unsupported index was provided and will be ignored when e.g. forecasting.\n",
      "  warnings.warn('An unsupported index was provided and will be'\n"
     ]
    },
    {
     "data": {
      "text/plain": [
       "<statsmodels.tsa.arima.model.ARIMA at 0x1603fd0bf70>"
      ]
     },
     "execution_count": 53,
     "metadata": {},
     "output_type": "execute_result"
    }
   ],
   "source": [
    "from statsmodels.tsa.arima.model import ARIMA\n",
    "model=ARIMA(train['C6H6.R'],order=(2,0,0))\n",
    "model_fit=model.fit()\n",
    "model"
   ]
  },
  {
   "cell_type": "code",
   "execution_count": 54,
   "id": "956efea4",
   "metadata": {},
   "outputs": [
    {
     "data": {
      "text/html": [
       "<table class=\"simpletable\">\n",
       "<caption>SARIMAX Results</caption>\n",
       "<tr>\n",
       "  <th>Dep. Variable:</th>        <td>C6H6.R</td>      <th>  No. Observations:  </th>    <td>290</td>  \n",
       "</tr>\n",
       "<tr>\n",
       "  <th>Model:</th>            <td>ARIMA(2, 0, 0)</td>  <th>  Log Likelihood     </th> <td>-763.755</td>\n",
       "</tr>\n",
       "<tr>\n",
       "  <th>Date:</th>            <td>Tue, 16 Nov 2021</td> <th>  AIC                </th> <td>1535.509</td>\n",
       "</tr>\n",
       "<tr>\n",
       "  <th>Time:</th>                <td>22:46:08</td>     <th>  BIC                </th> <td>1550.189</td>\n",
       "</tr>\n",
       "<tr>\n",
       "  <th>Sample:</th>                  <td>0</td>        <th>  HQIC               </th> <td>1541.391</td>\n",
       "</tr>\n",
       "<tr>\n",
       "  <th></th>                      <td> - 290</td>      <th>                     </th>     <td> </td>   \n",
       "</tr>\n",
       "<tr>\n",
       "  <th>Covariance Type:</th>        <td>opg</td>       <th>                     </th>     <td> </td>   \n",
       "</tr>\n",
       "</table>\n",
       "<table class=\"simpletable\">\n",
       "<tr>\n",
       "     <td></td>       <th>coef</th>     <th>std err</th>      <th>z</th>      <th>P>|z|</th>  <th>[0.025</th>    <th>0.975]</th>  \n",
       "</tr>\n",
       "<tr>\n",
       "  <th>const</th>  <td>   10.8197</td> <td>    0.427</td> <td>   25.338</td> <td> 0.000</td> <td>    9.983</td> <td>   11.657</td>\n",
       "</tr>\n",
       "<tr>\n",
       "  <th>ar.L1</th>  <td>    0.7111</td> <td>    0.055</td> <td>   12.910</td> <td> 0.000</td> <td>    0.603</td> <td>    0.819</td>\n",
       "</tr>\n",
       "<tr>\n",
       "  <th>ar.L2</th>  <td>   -0.2157</td> <td>    0.053</td> <td>   -4.055</td> <td> 0.000</td> <td>   -0.320</td> <td>   -0.111</td>\n",
       "</tr>\n",
       "<tr>\n",
       "  <th>sigma2</th> <td>   11.3319</td> <td>    0.854</td> <td>   13.270</td> <td> 0.000</td> <td>    9.658</td> <td>   13.006</td>\n",
       "</tr>\n",
       "</table>\n",
       "<table class=\"simpletable\">\n",
       "<tr>\n",
       "  <th>Ljung-Box (L1) (Q):</th>     <td>0.00</td> <th>  Jarque-Bera (JB):  </th> <td>30.36</td>\n",
       "</tr>\n",
       "<tr>\n",
       "  <th>Prob(Q):</th>                <td>0.99</td> <th>  Prob(JB):          </th> <td>0.00</td> \n",
       "</tr>\n",
       "<tr>\n",
       "  <th>Heteroskedasticity (H):</th> <td>2.05</td> <th>  Skew:              </th> <td>0.66</td> \n",
       "</tr>\n",
       "<tr>\n",
       "  <th>Prob(H) (two-sided):</th>    <td>0.00</td> <th>  Kurtosis:          </th> <td>3.87</td> \n",
       "</tr>\n",
       "</table><br/><br/>Warnings:<br/>[1] Covariance matrix calculated using the outer product of gradients (complex-step)."
      ],
      "text/plain": [
       "<class 'statsmodels.iolib.summary.Summary'>\n",
       "\"\"\"\n",
       "                               SARIMAX Results                                \n",
       "==============================================================================\n",
       "Dep. Variable:                 C6H6.R   No. Observations:                  290\n",
       "Model:                 ARIMA(2, 0, 0)   Log Likelihood                -763.755\n",
       "Date:                Tue, 16 Nov 2021   AIC                           1535.509\n",
       "Time:                        22:46:08   BIC                           1550.189\n",
       "Sample:                             0   HQIC                          1541.391\n",
       "                                - 290                                         \n",
       "Covariance Type:                  opg                                         \n",
       "==============================================================================\n",
       "                 coef    std err          z      P>|z|      [0.025      0.975]\n",
       "------------------------------------------------------------------------------\n",
       "const         10.8197      0.427     25.338      0.000       9.983      11.657\n",
       "ar.L1          0.7111      0.055     12.910      0.000       0.603       0.819\n",
       "ar.L2         -0.2157      0.053     -4.055      0.000      -0.320      -0.111\n",
       "sigma2        11.3319      0.854     13.270      0.000       9.658      13.006\n",
       "===================================================================================\n",
       "Ljung-Box (L1) (Q):                   0.00   Jarque-Bera (JB):                30.36\n",
       "Prob(Q):                              0.99   Prob(JB):                         0.00\n",
       "Heteroskedasticity (H):               2.05   Skew:                             0.66\n",
       "Prob(H) (two-sided):                  0.00   Kurtosis:                         3.87\n",
       "===================================================================================\n",
       "\n",
       "Warnings:\n",
       "[1] Covariance matrix calculated using the outer product of gradients (complex-step).\n",
       "\"\"\""
      ]
     },
     "execution_count": 54,
     "metadata": {},
     "output_type": "execute_result"
    }
   ],
   "source": [
    "model_fit.summary()"
   ]
  },
  {
   "cell_type": "code",
   "execution_count": 55,
   "id": "3e67ccd3",
   "metadata": {},
   "outputs": [
    {
     "name": "stdout",
     "output_type": "stream",
     "text": [
      "DATE\n",
      "38346    11.169763\n",
      "38347    10.576297\n",
      "38348    10.571142\n",
      "38349    10.695461\n",
      "38350    10.784977\n",
      "           ...    \n",
      "38441    10.819741\n",
      "38442    10.819741\n",
      "38443    10.819741\n",
      "38444    10.819741\n",
      "38445    10.819741\n",
      "Name: predicted_mean, Length: 100, dtype: float64\n"
     ]
    },
    {
     "name": "stderr",
     "output_type": "stream",
     "text": [
      "C:\\Users\\VEDANG SAWANT\\AppData\\Roaming\\Python\\Python38\\site-packages\\statsmodels\\tsa\\base\\tsa_model.py:390: ValueWarning: No supported index is available. Prediction results will be given with an integer index beginning at `start`.\n",
      "  warnings.warn('No supported index is available.'\n"
     ]
    }
   ],
   "source": [
    "start=len(train)\n",
    "end=len(train)+len(test)-1\n",
    "pred=model_fit.predict(start=start,end=end)\n",
    "pred.index=df.index[start:end+1]\n",
    "print(pred)"
   ]
  },
  {
   "cell_type": "code",
   "execution_count": 56,
   "id": "d0a383ee",
   "metadata": {},
   "outputs": [
    {
     "data": {
      "text/plain": [
       "<AxesSubplot:xlabel='DATE'>"
      ]
     },
     "execution_count": 56,
     "metadata": {},
     "output_type": "execute_result"
    },
    {
     "data": {
      "image/png": "[encoded data removed]",
      "text/plain": [
       "<Figure size 432x288 with 1 Axes>"
      ]
     },
     "metadata": {
      "needs_background": "light"
     },
     "output_type": "display_data"
    }
   ],
   "source": [
    "pred.plot(legend=True)\n",
    "test['C6H6.R'].plot(legend=True)"
   ]
  },
  {
   "cell_type": "code",
   "execution_count": 57,
   "id": "a62dc634",
   "metadata": {},
   "outputs": [
    {
     "data": {
      "text/plain": [
       "4.561124694461619"
      ]
     },
     "execution_count": 57,
     "metadata": {},
     "output_type": "execute_result"
    }
   ],
   "source": [
    "from sklearn.metrics import mean_squared_error\n",
    "from math import sqrt\n",
    "rmse=sqrt(mean_squared_error(pred,test['C6H6.R']))\n",
    "rmse"
   ]
  },
  {
   "cell_type": "markdown",
   "id": "70d2c924",
   "metadata": {},
   "source": [
    "# O3"
   ]
  },
  {
   "cell_type": "code",
   "execution_count": 58,
   "id": "c10c20c0",
   "metadata": {},
   "outputs": [
    {
     "name": "stdout",
     "output_type": "stream",
     "text": [
      "Performing stepwise search to minimize aic\n",
      " ARIMA(2,1,2)(0,0,0)[0] intercept   : AIC=5307.748, Time=0.31 sec\n",
      " ARIMA(0,1,0)(0,0,0)[0] intercept   : AIC=5407.664, Time=0.01 sec\n",
      " ARIMA(1,1,0)(0,0,0)[0] intercept   : AIC=5409.518, Time=0.02 sec\n",
      " ARIMA(0,1,1)(0,0,0)[0] intercept   : AIC=5409.418, Time=0.03 sec\n",
      " ARIMA(0,1,0)(0,0,0)[0]             : AIC=5405.664, Time=0.01 sec\n",
      " ARIMA(1,1,2)(0,0,0)[0] intercept   : AIC=5315.327, Time=0.23 sec\n",
      " ARIMA(2,1,1)(0,0,0)[0] intercept   : AIC=5307.392, Time=0.24 sec\n",
      " ARIMA(1,1,1)(0,0,0)[0] intercept   : AIC=inf, Time=0.26 sec\n",
      " ARIMA(2,1,0)(0,0,0)[0] intercept   : AIC=5392.845, Time=0.03 sec\n",
      " ARIMA(3,1,1)(0,0,0)[0] intercept   : AIC=5307.482, Time=0.37 sec\n",
      " ARIMA(3,1,0)(0,0,0)[0] intercept   : AIC=5371.021, Time=0.04 sec\n",
      " ARIMA(3,1,2)(0,0,0)[0] intercept   : AIC=inf, Time=0.39 sec\n",
      " ARIMA(2,1,1)(0,0,0)[0]             : AIC=5305.394, Time=0.14 sec\n",
      " ARIMA(1,1,1)(0,0,0)[0]             : AIC=5333.365, Time=0.13 sec\n",
      " ARIMA(2,1,0)(0,0,0)[0]             : AIC=5390.847, Time=0.02 sec\n",
      " ARIMA(3,1,1)(0,0,0)[0]             : AIC=5305.482, Time=0.18 sec\n",
      " ARIMA(2,1,2)(0,0,0)[0]             : AIC=5305.748, Time=0.21 sec\n",
      " ARIMA(1,1,0)(0,0,0)[0]             : AIC=5407.517, Time=0.01 sec\n",
      " ARIMA(1,1,2)(0,0,0)[0]             : AIC=5313.382, Time=0.13 sec\n",
      " ARIMA(3,1,0)(0,0,0)[0]             : AIC=5369.028, Time=0.02 sec\n",
      " ARIMA(3,1,2)(0,0,0)[0]             : AIC=5307.517, Time=0.38 sec\n",
      "\n",
      "Best model:  ARIMA(2,1,1)(0,0,0)[0]          \n",
      "Total fit time: 3.183 seconds\n"
     ]
    },
    {
     "data": {
      "text/html": [
       "<table class=\"simpletable\">\n",
       "<caption>SARIMAX Results</caption>\n",
       "<tr>\n",
       "  <th>Dep. Variable:</th>           <td>y</td>        <th>  No. Observations:  </th>    <td>391</td>   \n",
       "</tr>\n",
       "<tr>\n",
       "  <th>Model:</th>           <td>SARIMAX(2, 1, 1)</td> <th>  Log Likelihood     </th> <td>-2648.697</td>\n",
       "</tr>\n",
       "<tr>\n",
       "  <th>Date:</th>            <td>Tue, 16 Nov 2021</td> <th>  AIC                </th> <td>5305.394</td> \n",
       "</tr>\n",
       "<tr>\n",
       "  <th>Time:</th>                <td>23:09:36</td>     <th>  BIC                </th> <td>5321.258</td> \n",
       "</tr>\n",
       "<tr>\n",
       "  <th>Sample:</th>                  <td>0</td>        <th>  HQIC               </th> <td>5311.683</td> \n",
       "</tr>\n",
       "<tr>\n",
       "  <th></th>                      <td> - 391</td>      <th>                     </th>     <td> </td>    \n",
       "</tr>\n",
       "<tr>\n",
       "  <th>Covariance Type:</th>        <td>opg</td>       <th>                     </th>     <td> </td>    \n",
       "</tr>\n",
       "</table>\n",
       "<table class=\"simpletable\">\n",
       "<tr>\n",
       "     <td></td>       <th>coef</th>     <th>std err</th>      <th>z</th>      <th>P>|z|</th>  <th>[0.025</th>    <th>0.975]</th>  \n",
       "</tr>\n",
       "<tr>\n",
       "  <th>ar.L1</th>  <td>    0.7587</td> <td>    0.046</td> <td>   16.341</td> <td> 0.000</td> <td>    0.668</td> <td>    0.850</td>\n",
       "</tr>\n",
       "<tr>\n",
       "  <th>ar.L2</th>  <td>   -0.2785</td> <td>    0.044</td> <td>   -6.305</td> <td> 0.000</td> <td>   -0.365</td> <td>   -0.192</td>\n",
       "</tr>\n",
       "<tr>\n",
       "  <th>ma.L1</th>  <td>   -0.9668</td> <td>    0.015</td> <td>  -63.600</td> <td> 0.000</td> <td>   -0.997</td> <td>   -0.937</td>\n",
       "</tr>\n",
       "<tr>\n",
       "  <th>sigma2</th> <td> 4.616e+04</td> <td> 2955.183</td> <td>   15.619</td> <td> 0.000</td> <td> 4.04e+04</td> <td>  5.2e+04</td>\n",
       "</tr>\n",
       "</table>\n",
       "<table class=\"simpletable\">\n",
       "<tr>\n",
       "  <th>Ljung-Box (L1) (Q):</th>     <td>0.14</td> <th>  Jarque-Bera (JB):  </th> <td>9.08</td>\n",
       "</tr>\n",
       "<tr>\n",
       "  <th>Prob(Q):</th>                <td>0.71</td> <th>  Prob(JB):          </th> <td>0.01</td>\n",
       "</tr>\n",
       "<tr>\n",
       "  <th>Heteroskedasticity (H):</th> <td>2.84</td> <th>  Skew:              </th> <td>0.17</td>\n",
       "</tr>\n",
       "<tr>\n",
       "  <th>Prob(H) (two-sided):</th>    <td>0.00</td> <th>  Kurtosis:          </th> <td>3.67</td>\n",
       "</tr>\n",
       "</table><br/><br/>Warnings:<br/>[1] Covariance matrix calculated using the outer product of gradients (complex-step)."
      ],
      "text/plain": [
       "<class 'statsmodels.iolib.summary.Summary'>\n",
       "\"\"\"\n",
       "                               SARIMAX Results                                \n",
       "==============================================================================\n",
       "Dep. Variable:                      y   No. Observations:                  391\n",
       "Model:               SARIMAX(2, 1, 1)   Log Likelihood               -2648.697\n",
       "Date:                Tue, 16 Nov 2021   AIC                           5305.394\n",
       "Time:                        23:09:36   BIC                           5321.258\n",
       "Sample:                             0   HQIC                          5311.683\n",
       "                                - 391                                         \n",
       "Covariance Type:                  opg                                         \n",
       "==============================================================================\n",
       "                 coef    std err          z      P>|z|      [0.025      0.975]\n",
       "------------------------------------------------------------------------------\n",
       "ar.L1          0.7587      0.046     16.341      0.000       0.668       0.850\n",
       "ar.L2         -0.2785      0.044     -6.305      0.000      -0.365      -0.192\n",
       "ma.L1         -0.9668      0.015    -63.600      0.000      -0.997      -0.937\n",
       "sigma2      4.616e+04   2955.183     15.619      0.000    4.04e+04     5.2e+04\n",
       "===================================================================================\n",
       "Ljung-Box (L1) (Q):                   0.14   Jarque-Bera (JB):                 9.08\n",
       "Prob(Q):                              0.71   Prob(JB):                         0.01\n",
       "Heteroskedasticity (H):               2.84   Skew:                             0.17\n",
       "Prob(H) (two-sided):                  0.00   Kurtosis:                         3.67\n",
       "===================================================================================\n",
       "\n",
       "Warnings:\n",
       "[1] Covariance matrix calculated using the outer product of gradients (complex-step).\n",
       "\"\"\""
      ]
     },
     "execution_count": 58,
     "metadata": {},
     "output_type": "execute_result"
    }
   ],
   "source": [
    "stepwise_fit=auto_arima(df['O3.T'],trace=True,suppres_worings=True)\n",
    "stepwise_fit.summary()"
   ]
  },
  {
   "cell_type": "code",
   "execution_count": 59,
   "id": "58aba357",
   "metadata": {},
   "outputs": [],
   "source": [
    "train=df[1:df.shape[0]-100]\n",
    "test=df[df.shape[0]-100:]"
   ]
  },
  {
   "cell_type": "code",
   "execution_count": 60,
   "id": "a3cf6961",
   "metadata": {},
   "outputs": [
    {
     "name": "stderr",
     "output_type": "stream",
     "text": [
      "C:\\Users\\VEDANG SAWANT\\AppData\\Roaming\\Python\\Python38\\site-packages\\statsmodels\\tsa\\base\\tsa_model.py:590: ValueWarning: An unsupported index was provided and will be ignored when e.g. forecasting.\n",
      "  warnings.warn('An unsupported index was provided and will be'\n",
      "C:\\Users\\VEDANG SAWANT\\AppData\\Roaming\\Python\\Python38\\site-packages\\statsmodels\\tsa\\base\\tsa_model.py:590: ValueWarning: An unsupported index was provided and will be ignored when e.g. forecasting.\n",
      "  warnings.warn('An unsupported index was provided and will be'\n",
      "C:\\Users\\VEDANG SAWANT\\AppData\\Roaming\\Python\\Python38\\site-packages\\statsmodels\\tsa\\base\\tsa_model.py:590: ValueWarning: An unsupported index was provided and will be ignored when e.g. forecasting.\n",
      "  warnings.warn('An unsupported index was provided and will be'\n",
      "C:\\Users\\VEDANG SAWANT\\AppData\\Roaming\\Python\\Python38\\site-packages\\statsmodels\\tsa\\statespace\\sarimax.py:966: UserWarning: Non-stationary starting autoregressive parameters found. Using zeros as starting parameters.\n",
      "  warn('Non-stationary starting autoregressive parameters'\n",
      "C:\\Users\\VEDANG SAWANT\\AppData\\Roaming\\Python\\Python38\\site-packages\\statsmodels\\tsa\\statespace\\sarimax.py:978: UserWarning: Non-invertible starting MA parameters found. Using zeros as starting parameters.\n",
      "  warn('Non-invertible starting MA parameters found.'\n"
     ]
    },
    {
     "data": {
      "text/plain": [
       "<statsmodels.tsa.arima.model.ARIMA at 0x1603fe1feb0>"
      ]
     },
     "execution_count": 60,
     "metadata": {},
     "output_type": "execute_result"
    }
   ],
   "source": [
    "from statsmodels.tsa.arima.model import ARIMA\n",
    "model=ARIMA(train['O3.T'],order=(2,1,1))\n",
    "model_fit=model.fit()\n",
    "model"
   ]
  },
  {
   "cell_type": "code",
   "execution_count": 61,
   "id": "397e033c",
   "metadata": {},
   "outputs": [
    {
     "data": {
      "text/html": [
       "<table class=\"simpletable\">\n",
       "<caption>SARIMAX Results</caption>\n",
       "<tr>\n",
       "  <th>Dep. Variable:</th>         <td>O3.T</td>       <th>  No. Observations:  </th>    <td>290</td>   \n",
       "</tr>\n",
       "<tr>\n",
       "  <th>Model:</th>            <td>ARIMA(2, 1, 1)</td>  <th>  Log Likelihood     </th> <td>-1923.248</td>\n",
       "</tr>\n",
       "<tr>\n",
       "  <th>Date:</th>            <td>Tue, 16 Nov 2021</td> <th>  AIC                </th> <td>3854.496</td> \n",
       "</tr>\n",
       "<tr>\n",
       "  <th>Time:</th>                <td>23:10:34</td>     <th>  BIC                </th> <td>3869.161</td> \n",
       "</tr>\n",
       "<tr>\n",
       "  <th>Sample:</th>                  <td>0</td>        <th>  HQIC               </th> <td>3860.372</td> \n",
       "</tr>\n",
       "<tr>\n",
       "  <th></th>                      <td> - 290</td>      <th>                     </th>     <td> </td>    \n",
       "</tr>\n",
       "<tr>\n",
       "  <th>Covariance Type:</th>        <td>opg</td>       <th>                     </th>     <td> </td>    \n",
       "</tr>\n",
       "</table>\n",
       "<table class=\"simpletable\">\n",
       "<tr>\n",
       "     <td></td>       <th>coef</th>     <th>std err</th>      <th>z</th>      <th>P>|z|</th>  <th>[0.025</th>    <th>0.975]</th>  \n",
       "</tr>\n",
       "<tr>\n",
       "  <th>ar.L1</th>  <td>    0.7878</td> <td>    0.063</td> <td>   12.560</td> <td> 0.000</td> <td>    0.665</td> <td>    0.911</td>\n",
       "</tr>\n",
       "<tr>\n",
       "  <th>ar.L2</th>  <td>   -0.2948</td> <td>    0.058</td> <td>   -5.075</td> <td> 0.000</td> <td>   -0.409</td> <td>   -0.181</td>\n",
       "</tr>\n",
       "<tr>\n",
       "  <th>ma.L1</th>  <td>   -0.9520</td> <td>    0.022</td> <td>  -42.374</td> <td> 0.000</td> <td>   -0.996</td> <td>   -0.908</td>\n",
       "</tr>\n",
       "<tr>\n",
       "  <th>sigma2</th> <td>  3.51e+04</td> <td> 2730.335</td> <td>   12.854</td> <td> 0.000</td> <td> 2.97e+04</td> <td> 4.04e+04</td>\n",
       "</tr>\n",
       "</table>\n",
       "<table class=\"simpletable\">\n",
       "<tr>\n",
       "  <th>Ljung-Box (L1) (Q):</th>     <td>0.13</td> <th>  Jarque-Bera (JB):  </th> <td>1.61</td>\n",
       "</tr>\n",
       "<tr>\n",
       "  <th>Prob(Q):</th>                <td>0.72</td> <th>  Prob(JB):          </th> <td>0.45</td>\n",
       "</tr>\n",
       "<tr>\n",
       "  <th>Heteroskedasticity (H):</th> <td>1.84</td> <th>  Skew:              </th> <td>0.05</td>\n",
       "</tr>\n",
       "<tr>\n",
       "  <th>Prob(H) (two-sided):</th>    <td>0.00</td> <th>  Kurtosis:          </th> <td>3.35</td>\n",
       "</tr>\n",
       "</table><br/><br/>Warnings:<br/>[1] Covariance matrix calculated using the outer product of gradients (complex-step)."
      ],
      "text/plain": [
       "<class 'statsmodels.iolib.summary.Summary'>\n",
       "\"\"\"\n",
       "                               SARIMAX Results                                \n",
       "==============================================================================\n",
       "Dep. Variable:                   O3.T   No. Observations:                  290\n",
       "Model:                 ARIMA(2, 1, 1)   Log Likelihood               -1923.248\n",
       "Date:                Tue, 16 Nov 2021   AIC                           3854.496\n",
       "Time:                        23:10:34   BIC                           3869.161\n",
       "Sample:                             0   HQIC                          3860.372\n",
       "                                - 290                                         \n",
       "Covariance Type:                  opg                                         \n",
       "==============================================================================\n",
       "                 coef    std err          z      P>|z|      [0.025      0.975]\n",
       "------------------------------------------------------------------------------\n",
       "ar.L1          0.7878      0.063     12.560      0.000       0.665       0.911\n",
       "ar.L2         -0.2948      0.058     -5.075      0.000      -0.409      -0.181\n",
       "ma.L1         -0.9520      0.022    -42.374      0.000      -0.996      -0.908\n",
       "sigma2       3.51e+04   2730.335     12.854      0.000    2.97e+04    4.04e+04\n",
       "===================================================================================\n",
       "Ljung-Box (L1) (Q):                   0.13   Jarque-Bera (JB):                 1.61\n",
       "Prob(Q):                              0.72   Prob(JB):                         0.45\n",
       "Heteroskedasticity (H):               1.84   Skew:                             0.05\n",
       "Prob(H) (two-sided):                  0.00   Kurtosis:                         3.35\n",
       "===================================================================================\n",
       "\n",
       "Warnings:\n",
       "[1] Covariance matrix calculated using the outer product of gradients (complex-step).\n",
       "\"\"\""
      ]
     },
     "execution_count": 61,
     "metadata": {},
     "output_type": "execute_result"
    }
   ],
   "source": [
    "model_fit.summary()"
   ]
  },
  {
   "cell_type": "code",
   "execution_count": 62,
   "id": "9e93c8a4",
   "metadata": {},
   "outputs": [
    {
     "name": "stdout",
     "output_type": "stream",
     "text": [
      "DATE\n",
      "38346    1455.930678\n",
      "38347    1255.142815\n",
      "38348    1192.983458\n",
      "38349    1203.205687\n",
      "38350    1229.582493\n",
      "            ...     \n",
      "38441    1249.286529\n",
      "38442    1249.286529\n",
      "38443    1249.286529\n",
      "38444    1249.286529\n",
      "38445    1249.286529\n",
      "Name: predicted_mean, Length: 100, dtype: float64\n"
     ]
    },
    {
     "name": "stderr",
     "output_type": "stream",
     "text": [
      "C:\\Users\\VEDANG SAWANT\\AppData\\Roaming\\Python\\Python38\\site-packages\\statsmodels\\tsa\\base\\tsa_model.py:390: ValueWarning: No supported index is available. Prediction results will be given with an integer index beginning at `start`.\n",
      "  warnings.warn('No supported index is available.'\n"
     ]
    }
   ],
   "source": [
    "start=len(train)\n",
    "end=len(train)+len(test)-1\n",
    "pred=model_fit.predict(start=start,end=end)\n",
    "pred.index=df.index[start:end+1]\n",
    "print(pred)"
   ]
  },
  {
   "cell_type": "code",
   "execution_count": 63,
   "id": "f42b6089",
   "metadata": {},
   "outputs": [
    {
     "data": {
      "text/plain": [
       "<AxesSubplot:xlabel='DATE'>"
      ]
     },
     "execution_count": 63,
     "metadata": {},
     "output_type": "execute_result"
    },
    {
     "data": {
      "image/png": "[encoded data removed]",
      "text/plain": [
       "<Figure size 432x288 with 1 Axes>"
      ]
     },
     "metadata": {
      "needs_background": "light"
     },
     "output_type": "display_data"
    }
   ],
   "source": [
    "pred.plot(legend=True)\n",
    "test['O3.T'].plot(legend=True)"
   ]
  },
  {
   "cell_type": "code",
   "execution_count": 64,
   "id": "a9ba278b",
   "metadata": {},
   "outputs": [
    {
     "data": {
      "text/plain": [
       "393.0895708121132"
      ]
     },
     "execution_count": 64,
     "metadata": {},
     "output_type": "execute_result"
    }
   ],
   "source": [
    "from sklearn.metrics import mean_squared_error\n",
    "from math import sqrt\n",
    "rmse=sqrt(mean_squared_error(pred,test['O3.T']))\n",
    "rmse"
   ]
  }
 ],
 "metadata": {
  "kernelspec": {
   "display_name": "Python 3",
   "language": "python",
   "name": "python3"
  },
  "language_info": {
   "codemirror_mode": {
    "name": "ipython",
    "version": 3
   },
   "file_extension": ".py",
   "mimetype": "text/x-python",
   "name": "python",
   "nbconvert_exporter": "python",
   "pygments_lexer": "ipython3",
   "version": "3.8.8"
  }
 },
 "nbformat": 4,
 "nbformat_minor": 5
}

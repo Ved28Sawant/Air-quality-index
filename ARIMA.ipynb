{
 "cells": [
  {
   "cell_type": "code",
   "execution_count": 8,
   "id": "413a42e9",
   "metadata": {},
   "outputs": [],
   "source": [
    "import numpy as np\n",
    "import pandas as pd"
   ]
  },
  {
   "cell_type": "code",
   "execution_count": 9,
   "id": "60668929",
   "metadata": {},
   "outputs": [
    {
     "data": {
      "text/html": [
       "<div>\n",
       "<style scoped>\n",
       "    .dataframe tbody tr th:only-of-type {\n",
       "        vertical-align: middle;\n",
       "    }\n",
       "\n",
       "    .dataframe tbody tr th {\n",
       "        vertical-align: top;\n",
       "    }\n",
       "\n",
       "    .dataframe thead th {\n",
       "        text-align: right;\n",
       "    }\n",
       "</style>\n",
       "<table border=\"1\" class=\"dataframe\">\n",
       "  <thead>\n",
       "    <tr style=\"text-align: right;\">\n",
       "      <th></th>\n",
       "      <th>Date.1</th>\n",
       "      <th>Time</th>\n",
       "      <th>CO(GT)</th>\n",
       "      <th>PT08.S1(CO)</th>\n",
       "      <th>NMHC(GT)</th>\n",
       "      <th>C6H6(GT)</th>\n",
       "      <th>PT08.S2(NMHC)</th>\n",
       "      <th>NOx(GT)</th>\n",
       "      <th>PT08.S3(NOx)</th>\n",
       "      <th>NO2(GT)</th>\n",
       "      <th>PT08.S4(NO2)</th>\n",
       "      <th>PT08.S5(O3)</th>\n",
       "      <th>T</th>\n",
       "      <th>RH</th>\n",
       "      <th>AH</th>\n",
       "    </tr>\n",
       "    <tr>\n",
       "      <th>Date</th>\n",
       "      <th></th>\n",
       "      <th></th>\n",
       "      <th></th>\n",
       "      <th></th>\n",
       "      <th></th>\n",
       "      <th></th>\n",
       "      <th></th>\n",
       "      <th></th>\n",
       "      <th></th>\n",
       "      <th></th>\n",
       "      <th></th>\n",
       "      <th></th>\n",
       "      <th></th>\n",
       "      <th></th>\n",
       "      <th></th>\n",
       "    </tr>\n",
       "  </thead>\n",
       "  <tbody>\n",
       "    <tr>\n",
       "      <th>2004-03-10</th>\n",
       "      <td>03-10-2004</td>\n",
       "      <td>18:00:00</td>\n",
       "      <td>2.6</td>\n",
       "      <td>1360.0</td>\n",
       "      <td>150.0</td>\n",
       "      <td>11.9</td>\n",
       "      <td>1046.0</td>\n",
       "      <td>166.0</td>\n",
       "      <td>1056.0</td>\n",
       "      <td>113.0</td>\n",
       "      <td>1692.0</td>\n",
       "      <td>1268.0</td>\n",
       "      <td>13.6</td>\n",
       "      <td>48.9</td>\n",
       "      <td>0.7578</td>\n",
       "    </tr>\n",
       "    <tr>\n",
       "      <th>2004-03-10</th>\n",
       "      <td>03-10-2004</td>\n",
       "      <td>19:00:00</td>\n",
       "      <td>2.0</td>\n",
       "      <td>1292.0</td>\n",
       "      <td>112.0</td>\n",
       "      <td>9.4</td>\n",
       "      <td>955.0</td>\n",
       "      <td>103.0</td>\n",
       "      <td>1174.0</td>\n",
       "      <td>92.0</td>\n",
       "      <td>1559.0</td>\n",
       "      <td>972.0</td>\n",
       "      <td>13.3</td>\n",
       "      <td>47.7</td>\n",
       "      <td>0.7255</td>\n",
       "    </tr>\n",
       "    <tr>\n",
       "      <th>2004-03-10</th>\n",
       "      <td>03-10-2004</td>\n",
       "      <td>20:00:00</td>\n",
       "      <td>2.2</td>\n",
       "      <td>1402.0</td>\n",
       "      <td>88.0</td>\n",
       "      <td>9.0</td>\n",
       "      <td>939.0</td>\n",
       "      <td>131.0</td>\n",
       "      <td>1140.0</td>\n",
       "      <td>114.0</td>\n",
       "      <td>1555.0</td>\n",
       "      <td>1074.0</td>\n",
       "      <td>11.9</td>\n",
       "      <td>54.0</td>\n",
       "      <td>0.7502</td>\n",
       "    </tr>\n",
       "    <tr>\n",
       "      <th>2004-03-10</th>\n",
       "      <td>03-10-2004</td>\n",
       "      <td>21:00:00</td>\n",
       "      <td>2.2</td>\n",
       "      <td>1376.0</td>\n",
       "      <td>80.0</td>\n",
       "      <td>9.2</td>\n",
       "      <td>948.0</td>\n",
       "      <td>172.0</td>\n",
       "      <td>1092.0</td>\n",
       "      <td>122.0</td>\n",
       "      <td>1584.0</td>\n",
       "      <td>1203.0</td>\n",
       "      <td>11.0</td>\n",
       "      <td>60.0</td>\n",
       "      <td>0.7867</td>\n",
       "    </tr>\n",
       "    <tr>\n",
       "      <th>2004-03-10</th>\n",
       "      <td>03-10-2004</td>\n",
       "      <td>22:00:00</td>\n",
       "      <td>1.6</td>\n",
       "      <td>1272.0</td>\n",
       "      <td>51.0</td>\n",
       "      <td>6.5</td>\n",
       "      <td>836.0</td>\n",
       "      <td>131.0</td>\n",
       "      <td>1205.0</td>\n",
       "      <td>116.0</td>\n",
       "      <td>1490.0</td>\n",
       "      <td>1110.0</td>\n",
       "      <td>11.2</td>\n",
       "      <td>59.6</td>\n",
       "      <td>0.7888</td>\n",
       "    </tr>\n",
       "  </tbody>\n",
       "</table>\n",
       "</div>"
      ],
      "text/plain": [
       "                Date.1      Time  CO(GT)  PT08.S1(CO)  NMHC(GT)  C6H6(GT)  \\\n",
       "Date                                                                        \n",
       "2004-03-10  03-10-2004  18:00:00     2.6       1360.0     150.0      11.9   \n",
       "2004-03-10  03-10-2004  19:00:00     2.0       1292.0     112.0       9.4   \n",
       "2004-03-10  03-10-2004  20:00:00     2.2       1402.0      88.0       9.0   \n",
       "2004-03-10  03-10-2004  21:00:00     2.2       1376.0      80.0       9.2   \n",
       "2004-03-10  03-10-2004  22:00:00     1.6       1272.0      51.0       6.5   \n",
       "\n",
       "            PT08.S2(NMHC)  NOx(GT)  PT08.S3(NOx)  NO2(GT)  PT08.S4(NO2)  \\\n",
       "Date                                                                      \n",
       "2004-03-10         1046.0    166.0        1056.0    113.0        1692.0   \n",
       "2004-03-10          955.0    103.0        1174.0     92.0        1559.0   \n",
       "2004-03-10          939.0    131.0        1140.0    114.0        1555.0   \n",
       "2004-03-10          948.0    172.0        1092.0    122.0        1584.0   \n",
       "2004-03-10          836.0    131.0        1205.0    116.0        1490.0   \n",
       "\n",
       "            PT08.S5(O3)     T    RH      AH  \n",
       "Date                                         \n",
       "2004-03-10       1268.0  13.6  48.9  0.7578  \n",
       "2004-03-10        972.0  13.3  47.7  0.7255  \n",
       "2004-03-10       1074.0  11.9  54.0  0.7502  \n",
       "2004-03-10       1203.0  11.0  60.0  0.7867  \n",
       "2004-03-10       1110.0  11.2  59.6  0.7888  "
      ]
     },
     "execution_count": 9,
     "metadata": {},
     "output_type": "execute_result"
    }
   ],
   "source": [
    "df=pd.read_csv(\"a.csv\",index_col='Date',header=0,parse_dates=[0])\n",
    "df.head()"
   ]
  },
  {
   "cell_type": "code",
   "execution_count": 10,
   "id": "0a63f442",
   "metadata": {},
   "outputs": [
    {
     "data": {
      "text/plain": [
       "<AxesSubplot:xlabel='Date'>"
      ]
     },
     "execution_count": 10,
     "metadata": {},
     "output_type": "execute_result"
    },
    {
     "data": {
      "image/png": "[encoded data removed]",
      "text/plain": [
       "<Figure size 432x288 with 1 Axes>"
      ]
     },
     "metadata": {
      "needs_background": "light"
     },
     "output_type": "display_data"
    }
   ],
   "source": [
    "df['T'].plot()"
   ]
  },
  {
   "cell_type": "code",
   "execution_count": 11,
   "id": "ab32e1f9",
   "metadata": {},
   "outputs": [
    {
     "data": {
      "text/plain": [
       "(-2.6121319935463645,\n",
       " 0.09051566571627495,\n",
       " 38,\n",
       " 9318,\n",
       " {'1%': -3.431051985659412,\n",
       "  '5%': -2.8618502334031457,\n",
       "  '10%': -2.5669351321592124},\n",
       " 46467.00580520139)"
      ]
     },
     "execution_count": 11,
     "metadata": {},
     "output_type": "execute_result"
    }
   ],
   "source": [
    "from statsmodels.tsa.stattools import adfuller\n",
    "\n",
    "dftest=adfuller(df['T'])\n",
    "dftest"
   ]
  },
  {
   "cell_type": "code",
   "execution_count": 12,
   "id": "aaf440ad",
   "metadata": {},
   "outputs": [
    {
     "name": "stdout",
     "output_type": "stream",
     "text": [
      "Performing stepwise search to minimize aic\n",
      " ARIMA(2,1,2)(0,0,0)[0] intercept   : AIC=49053.512, Time=2.25 sec\n",
      " ARIMA(0,1,0)(0,0,0)[0] intercept   : AIC=50470.708, Time=0.13 sec\n",
      " ARIMA(1,1,0)(0,0,0)[0] intercept   : AIC=49192.132, Time=0.28 sec\n",
      " ARIMA(0,1,1)(0,0,0)[0] intercept   : AIC=49259.057, Time=0.52 sec\n",
      " ARIMA(0,1,0)(0,0,0)[0]             : AIC=50468.710, Time=0.09 sec\n",
      " ARIMA(1,1,2)(0,0,0)[0] intercept   : AIC=49158.000, Time=1.88 sec\n",
      " ARIMA(2,1,1)(0,0,0)[0] intercept   : AIC=49164.396, Time=2.18 sec\n",
      " ARIMA(3,1,2)(0,0,0)[0] intercept   : AIC=49008.951, Time=5.73 sec\n",
      " ARIMA(3,1,1)(0,0,0)[0] intercept   : AIC=49145.740, Time=1.97 sec\n",
      " ARIMA(4,1,2)(0,0,0)[0] intercept   : AIC=inf, Time=10.28 sec\n",
      " ARIMA(3,1,3)(0,0,0)[0] intercept   : AIC=48072.340, Time=10.62 sec\n",
      " ARIMA(2,1,3)(0,0,0)[0] intercept   : AIC=48097.148, Time=9.28 sec\n",
      " ARIMA(4,1,3)(0,0,0)[0] intercept   : AIC=48208.304, Time=10.69 sec\n",
      " ARIMA(3,1,4)(0,0,0)[0] intercept   : AIC=48047.743, Time=9.25 sec\n",
      " ARIMA(2,1,4)(0,0,0)[0] intercept   : AIC=48049.522, Time=8.14 sec\n",
      " ARIMA(4,1,4)(0,0,0)[0] intercept   : AIC=47974.403, Time=10.14 sec\n",
      " ARIMA(5,1,4)(0,0,0)[0] intercept   : AIC=47943.420, Time=11.05 sec\n",
      " ARIMA(5,1,3)(0,0,0)[0] intercept   : AIC=47944.489, Time=7.88 sec\n",
      " ARIMA(5,1,5)(0,0,0)[0] intercept   : AIC=47932.310, Time=12.93 sec\n",
      " ARIMA(4,1,5)(0,0,0)[0] intercept   : AIC=47930.306, Time=12.43 sec\n",
      " ARIMA(3,1,5)(0,0,0)[0] intercept   : AIC=47944.510, Time=9.03 sec\n",
      " ARIMA(4,1,5)(0,0,0)[0]             : AIC=47928.325, Time=4.54 sec\n",
      " ARIMA(3,1,5)(0,0,0)[0]             : AIC=47942.550, Time=3.79 sec\n",
      " ARIMA(4,1,4)(0,0,0)[0]             : AIC=inf, Time=5.48 sec\n",
      " ARIMA(5,1,5)(0,0,0)[0]             : AIC=47930.244, Time=6.60 sec\n",
      " ARIMA(3,1,4)(0,0,0)[0]             : AIC=inf, Time=5.09 sec\n",
      " ARIMA(5,1,4)(0,0,0)[0]             : AIC=47941.070, Time=5.49 sec\n",
      "\n",
      "Best model:  ARIMA(4,1,5)(0,0,0)[0]          \n",
      "Total fit time: 167.865 seconds\n"
     ]
    },
    {
     "data": {
      "text/html": [
       "<table class=\"simpletable\">\n",
       "<caption>SARIMAX Results</caption>\n",
       "<tr>\n",
       "  <th>Dep. Variable:</th>           <td>y</td>        <th>  No. Observations:  </th>    <td>9357</td>   \n",
       "</tr>\n",
       "<tr>\n",
       "  <th>Model:</th>           <td>SARIMAX(4, 1, 5)</td> <th>  Log Likelihood     </th> <td>-23954.163</td>\n",
       "</tr>\n",
       "<tr>\n",
       "  <th>Date:</th>            <td>Fri, 12 Nov 2021</td> <th>  AIC                </th>  <td>47928.325</td>\n",
       "</tr>\n",
       "<tr>\n",
       "  <th>Time:</th>                <td>17:37:02</td>     <th>  BIC                </th>  <td>47999.763</td>\n",
       "</tr>\n",
       "<tr>\n",
       "  <th>Sample:</th>                  <td>0</td>        <th>  HQIC               </th>  <td>47952.587</td>\n",
       "</tr>\n",
       "<tr>\n",
       "  <th></th>                      <td> - 9357</td>     <th>                     </th>      <td> </td>    \n",
       "</tr>\n",
       "<tr>\n",
       "  <th>Covariance Type:</th>        <td>opg</td>       <th>                     </th>      <td> </td>    \n",
       "</tr>\n",
       "</table>\n",
       "<table class=\"simpletable\">\n",
       "<tr>\n",
       "     <td></td>       <th>coef</th>     <th>std err</th>      <th>z</th>      <th>P>|z|</th>  <th>[0.025</th>    <th>0.975]</th>  \n",
       "</tr>\n",
       "<tr>\n",
       "  <th>ar.L1</th>  <td>   -0.4025</td> <td>    0.034</td> <td>  -11.859</td> <td> 0.000</td> <td>   -0.469</td> <td>   -0.336</td>\n",
       "</tr>\n",
       "<tr>\n",
       "  <th>ar.L2</th>  <td>    0.3839</td> <td>    0.034</td> <td>   11.135</td> <td> 0.000</td> <td>    0.316</td> <td>    0.452</td>\n",
       "</tr>\n",
       "<tr>\n",
       "  <th>ar.L3</th>  <td>    0.2148</td> <td>    0.031</td> <td>    6.823</td> <td> 0.000</td> <td>    0.153</td> <td>    0.276</td>\n",
       "</tr>\n",
       "<tr>\n",
       "  <th>ar.L4</th>  <td>   -0.1265</td> <td>    0.028</td> <td>   -4.443</td> <td> 0.000</td> <td>   -0.182</td> <td>   -0.071</td>\n",
       "</tr>\n",
       "<tr>\n",
       "  <th>ma.L1</th>  <td>   -0.0606</td> <td>    0.034</td> <td>   -1.789</td> <td> 0.074</td> <td>   -0.127</td> <td>    0.006</td>\n",
       "</tr>\n",
       "<tr>\n",
       "  <th>ma.L2</th>  <td>   -0.5005</td> <td>    0.035</td> <td>  -14.412</td> <td> 0.000</td> <td>   -0.569</td> <td>   -0.432</td>\n",
       "</tr>\n",
       "<tr>\n",
       "  <th>ma.L3</th>  <td>   -0.0412</td> <td>    0.036</td> <td>   -1.141</td> <td> 0.254</td> <td>   -0.112</td> <td>    0.030</td>\n",
       "</tr>\n",
       "<tr>\n",
       "  <th>ma.L4</th>  <td>    0.0349</td> <td>    0.031</td> <td>    1.109</td> <td> 0.268</td> <td>   -0.027</td> <td>    0.097</td>\n",
       "</tr>\n",
       "<tr>\n",
       "  <th>ma.L5</th>  <td>   -0.3527</td> <td>    0.015</td> <td>  -23.133</td> <td> 0.000</td> <td>   -0.383</td> <td>   -0.323</td>\n",
       "</tr>\n",
       "<tr>\n",
       "  <th>sigma2</th> <td>    9.8015</td> <td>    0.110</td> <td>   89.316</td> <td> 0.000</td> <td>    9.586</td> <td>   10.017</td>\n",
       "</tr>\n",
       "</table>\n",
       "<table class=\"simpletable\">\n",
       "<tr>\n",
       "  <th>Ljung-Box (L1) (Q):</th>     <td>0.00</td> <th>  Jarque-Bera (JB):  </th> <td>3561.38</td>\n",
       "</tr>\n",
       "<tr>\n",
       "  <th>Prob(Q):</th>                <td>0.99</td> <th>  Prob(JB):          </th>  <td>0.00</td>  \n",
       "</tr>\n",
       "<tr>\n",
       "  <th>Heteroskedasticity (H):</th> <td>0.53</td> <th>  Skew:              </th>  <td>0.58</td>  \n",
       "</tr>\n",
       "<tr>\n",
       "  <th>Prob(H) (two-sided):</th>    <td>0.00</td> <th>  Kurtosis:          </th>  <td>5.79</td>  \n",
       "</tr>\n",
       "</table><br/><br/>Warnings:<br/>[1] Covariance matrix calculated using the outer product of gradients (complex-step)."
      ],
      "text/plain": [
       "<class 'statsmodels.iolib.summary.Summary'>\n",
       "\"\"\"\n",
       "                               SARIMAX Results                                \n",
       "==============================================================================\n",
       "Dep. Variable:                      y   No. Observations:                 9357\n",
       "Model:               SARIMAX(4, 1, 5)   Log Likelihood              -23954.163\n",
       "Date:                Fri, 12 Nov 2021   AIC                          47928.325\n",
       "Time:                        17:37:02   BIC                          47999.763\n",
       "Sample:                             0   HQIC                         47952.587\n",
       "                               - 9357                                         \n",
       "Covariance Type:                  opg                                         \n",
       "==============================================================================\n",
       "                 coef    std err          z      P>|z|      [0.025      0.975]\n",
       "------------------------------------------------------------------------------\n",
       "ar.L1         -0.4025      0.034    -11.859      0.000      -0.469      -0.336\n",
       "ar.L2          0.3839      0.034     11.135      0.000       0.316       0.452\n",
       "ar.L3          0.2148      0.031      6.823      0.000       0.153       0.276\n",
       "ar.L4         -0.1265      0.028     -4.443      0.000      -0.182      -0.071\n",
       "ma.L1         -0.0606      0.034     -1.789      0.074      -0.127       0.006\n",
       "ma.L2         -0.5005      0.035    -14.412      0.000      -0.569      -0.432\n",
       "ma.L3         -0.0412      0.036     -1.141      0.254      -0.112       0.030\n",
       "ma.L4          0.0349      0.031      1.109      0.268      -0.027       0.097\n",
       "ma.L5         -0.3527      0.015    -23.133      0.000      -0.383      -0.323\n",
       "sigma2         9.8015      0.110     89.316      0.000       9.586      10.017\n",
       "===================================================================================\n",
       "Ljung-Box (L1) (Q):                   0.00   Jarque-Bera (JB):              3561.38\n",
       "Prob(Q):                              0.99   Prob(JB):                         0.00\n",
       "Heteroskedasticity (H):               0.53   Skew:                             0.58\n",
       "Prob(H) (two-sided):                  0.00   Kurtosis:                         5.79\n",
       "===================================================================================\n",
       "\n",
       "Warnings:\n",
       "[1] Covariance matrix calculated using the outer product of gradients (complex-step).\n",
       "\"\"\""
      ]
     },
     "execution_count": 12,
     "metadata": {},
     "output_type": "execute_result"
    }
   ],
   "source": [
    "from pmdarima import auto_arima\n",
    "\n",
    "stepwise_fit=auto_arima(df['T'],trace=True,suppres_worings=True)\n",
    "stepwise_fit.summary()"
   ]
  },
  {
   "cell_type": "code",
   "execution_count": 21,
   "id": "84dc0251",
   "metadata": {},
   "outputs": [],
   "source": [
    "from statsmodels.tsa.arima.model import ARIMA"
   ]
  },
  {
   "cell_type": "code",
   "execution_count": 14,
   "id": "b2911ed3",
   "metadata": {},
   "outputs": [],
   "source": [
    "data=df['T']"
   ]
  },
  {
   "cell_type": "code",
   "execution_count": 16,
   "id": "531b48f4",
   "metadata": {},
   "outputs": [
    {
     "data": {
      "text/plain": [
       "(9357,)"
      ]
     },
     "execution_count": 16,
     "metadata": {},
     "output_type": "execute_result"
    }
   ],
   "source": [
    "data.shape"
   ]
  },
  {
   "cell_type": "code",
   "execution_count": 17,
   "id": "625da834",
   "metadata": {},
   "outputs": [],
   "source": [
    "train=df[1:data.shape[0]-7]\n",
    "test=df[data.shape[0]-7:]"
   ]
  },
  {
   "cell_type": "code",
   "execution_count": 23,
   "id": "2a4c026e",
   "metadata": {},
   "outputs": [
    {
     "name": "stderr",
     "output_type": "stream",
     "text": [
      "C:\\Users\\VEDANG SAWANT\\AppData\\Roaming\\Python\\Python38\\site-packages\\statsmodels\\tsa\\base\\tsa_model.py:593: ValueWarning: A date index has been provided, but it has no associated frequency information and so will be ignored when e.g. forecasting.\n",
      "  warnings.warn('A date index has been provided, but it has no'\n",
      "C:\\Users\\VEDANG SAWANT\\AppData\\Roaming\\Python\\Python38\\site-packages\\statsmodels\\tsa\\base\\tsa_model.py:593: ValueWarning: A date index has been provided, but it has no associated frequency information and so will be ignored when e.g. forecasting.\n",
      "  warnings.warn('A date index has been provided, but it has no'\n",
      "C:\\Users\\VEDANG SAWANT\\AppData\\Roaming\\Python\\Python38\\site-packages\\statsmodels\\tsa\\base\\tsa_model.py:593: ValueWarning: A date index has been provided, but it has no associated frequency information and so will be ignored when e.g. forecasting.\n",
      "  warnings.warn('A date index has been provided, but it has no'\n"
     ]
    },
    {
     "data": {
      "text/plain": [
       "<statsmodels.tsa.arima.model.ARIMA at 0x23c87f7d880>"
      ]
     },
     "execution_count": 23,
     "metadata": {},
     "output_type": "execute_result"
    }
   ],
   "source": [
    "model=ARIMA(train['T'],order=(4,1,5))\n",
    "model_fit=model.fit()\n",
    "model"
   ]
  },
  {
   "cell_type": "code",
   "execution_count": 25,
   "id": "937e4e5d",
   "metadata": {},
   "outputs": [
    {
     "data": {
      "text/html": [
       "<table class=\"simpletable\">\n",
       "<caption>SARIMAX Results</caption>\n",
       "<tr>\n",
       "  <th>Dep. Variable:</th>           <td>T</td>        <th>  No. Observations:  </th>    <td>9349</td>   \n",
       "</tr>\n",
       "<tr>\n",
       "  <th>Model:</th>            <td>ARIMA(4, 1, 5)</td>  <th>  Log Likelihood     </th> <td>-23913.602</td>\n",
       "</tr>\n",
       "<tr>\n",
       "  <th>Date:</th>            <td>Fri, 12 Nov 2021</td> <th>  AIC                </th>  <td>47847.204</td>\n",
       "</tr>\n",
       "<tr>\n",
       "  <th>Time:</th>                <td>17:48:57</td>     <th>  BIC                </th>  <td>47918.633</td>\n",
       "</tr>\n",
       "<tr>\n",
       "  <th>Sample:</th>                  <td>0</td>        <th>  HQIC               </th>  <td>47871.464</td>\n",
       "</tr>\n",
       "<tr>\n",
       "  <th></th>                      <td> - 9349</td>     <th>                     </th>      <td> </td>    \n",
       "</tr>\n",
       "<tr>\n",
       "  <th>Covariance Type:</th>        <td>opg</td>       <th>                     </th>      <td> </td>    \n",
       "</tr>\n",
       "</table>\n",
       "<table class=\"simpletable\">\n",
       "<tr>\n",
       "     <td></td>       <th>coef</th>     <th>std err</th>      <th>z</th>      <th>P>|z|</th>  <th>[0.025</th>    <th>0.975]</th>  \n",
       "</tr>\n",
       "<tr>\n",
       "  <th>ar.L1</th>  <td>   -0.3904</td> <td>    0.034</td> <td>  -11.396</td> <td> 0.000</td> <td>   -0.458</td> <td>   -0.323</td>\n",
       "</tr>\n",
       "<tr>\n",
       "  <th>ar.L2</th>  <td>    0.3773</td> <td>    0.035</td> <td>   10.853</td> <td> 0.000</td> <td>    0.309</td> <td>    0.445</td>\n",
       "</tr>\n",
       "<tr>\n",
       "  <th>ar.L3</th>  <td>    0.2107</td> <td>    0.032</td> <td>    6.581</td> <td> 0.000</td> <td>    0.148</td> <td>    0.273</td>\n",
       "</tr>\n",
       "<tr>\n",
       "  <th>ar.L4</th>  <td>   -0.1233</td> <td>    0.029</td> <td>   -4.272</td> <td> 0.000</td> <td>   -0.180</td> <td>   -0.067</td>\n",
       "</tr>\n",
       "<tr>\n",
       "  <th>ma.L1</th>  <td>   -0.0697</td> <td>    0.034</td> <td>   -2.035</td> <td> 0.042</td> <td>   -0.137</td> <td>   -0.003</td>\n",
       "</tr>\n",
       "<tr>\n",
       "  <th>ma.L2</th>  <td>   -0.4896</td> <td>    0.035</td> <td>  -13.794</td> <td> 0.000</td> <td>   -0.559</td> <td>   -0.420</td>\n",
       "</tr>\n",
       "<tr>\n",
       "  <th>ma.L3</th>  <td>   -0.0423</td> <td>    0.037</td> <td>   -1.153</td> <td> 0.249</td> <td>   -0.114</td> <td>    0.030</td>\n",
       "</tr>\n",
       "<tr>\n",
       "  <th>ma.L4</th>  <td>    0.0305</td> <td>    0.032</td> <td>    0.940</td> <td> 0.347</td> <td>   -0.033</td> <td>    0.094</td>\n",
       "</tr>\n",
       "<tr>\n",
       "  <th>ma.L5</th>  <td>   -0.3492</td> <td>    0.015</td> <td>  -22.566</td> <td> 0.000</td> <td>   -0.380</td> <td>   -0.319</td>\n",
       "</tr>\n",
       "<tr>\n",
       "  <th>sigma2</th> <td>    9.7591</td> <td>    0.109</td> <td>   89.134</td> <td> 0.000</td> <td>    9.544</td> <td>    9.974</td>\n",
       "</tr>\n",
       "</table>\n",
       "<table class=\"simpletable\">\n",
       "<tr>\n",
       "  <th>Ljung-Box (L1) (Q):</th>     <td>0.00</td> <th>  Jarque-Bera (JB):  </th> <td>3530.33</td>\n",
       "</tr>\n",
       "<tr>\n",
       "  <th>Prob(Q):</th>                <td>0.99</td> <th>  Prob(JB):          </th>  <td>0.00</td>  \n",
       "</tr>\n",
       "<tr>\n",
       "  <th>Heteroskedasticity (H):</th> <td>0.52</td> <th>  Skew:              </th>  <td>0.58</td>  \n",
       "</tr>\n",
       "<tr>\n",
       "  <th>Prob(H) (two-sided):</th>    <td>0.00</td> <th>  Kurtosis:          </th>  <td>5.78</td>  \n",
       "</tr>\n",
       "</table><br/><br/>Warnings:<br/>[1] Covariance matrix calculated using the outer product of gradients (complex-step)."
      ],
      "text/plain": [
       "<class 'statsmodels.iolib.summary.Summary'>\n",
       "\"\"\"\n",
       "                               SARIMAX Results                                \n",
       "==============================================================================\n",
       "Dep. Variable:                      T   No. Observations:                 9349\n",
       "Model:                 ARIMA(4, 1, 5)   Log Likelihood              -23913.602\n",
       "Date:                Fri, 12 Nov 2021   AIC                          47847.204\n",
       "Time:                        17:48:57   BIC                          47918.633\n",
       "Sample:                             0   HQIC                         47871.464\n",
       "                               - 9349                                         \n",
       "Covariance Type:                  opg                                         \n",
       "==============================================================================\n",
       "                 coef    std err          z      P>|z|      [0.025      0.975]\n",
       "------------------------------------------------------------------------------\n",
       "ar.L1         -0.3904      0.034    -11.396      0.000      -0.458      -0.323\n",
       "ar.L2          0.3773      0.035     10.853      0.000       0.309       0.445\n",
       "ar.L3          0.2107      0.032      6.581      0.000       0.148       0.273\n",
       "ar.L4         -0.1233      0.029     -4.272      0.000      -0.180      -0.067\n",
       "ma.L1         -0.0697      0.034     -2.035      0.042      -0.137      -0.003\n",
       "ma.L2         -0.4896      0.035    -13.794      0.000      -0.559      -0.420\n",
       "ma.L3         -0.0423      0.037     -1.153      0.249      -0.114       0.030\n",
       "ma.L4          0.0305      0.032      0.940      0.347      -0.033       0.094\n",
       "ma.L5         -0.3492      0.015    -22.566      0.000      -0.380      -0.319\n",
       "sigma2         9.7591      0.109     89.134      0.000       9.544       9.974\n",
       "===================================================================================\n",
       "Ljung-Box (L1) (Q):                   0.00   Jarque-Bera (JB):              3530.33\n",
       "Prob(Q):                              0.99   Prob(JB):                         0.00\n",
       "Heteroskedasticity (H):               0.52   Skew:                             0.58\n",
       "Prob(H) (two-sided):                  0.00   Kurtosis:                         5.78\n",
       "===================================================================================\n",
       "\n",
       "Warnings:\n",
       "[1] Covariance matrix calculated using the outer product of gradients (complex-step).\n",
       "\"\"\""
      ]
     },
     "execution_count": 25,
     "metadata": {},
     "output_type": "execute_result"
    }
   ],
   "source": [
    "model_fit.summary()"
   ]
  },
  {
   "cell_type": "code",
   "execution_count": 27,
   "id": "fcafd038",
   "metadata": {},
   "outputs": [
    {
     "name": "stdout",
     "output_type": "stream",
     "text": [
      "Date\n",
      "2005-04-04    11.412542\n",
      "2005-04-04    13.797701\n",
      "2005-04-04    15.331912\n",
      "2005-04-04    15.090134\n",
      "2005-04-04    16.519654\n",
      "2005-04-04    15.899524\n",
      "2005-04-04    16.440894\n",
      "Name: predicted_mean, dtype: float64\n"
     ]
    },
    {
     "name": "stderr",
     "output_type": "stream",
     "text": [
      "C:\\Users\\VEDANG SAWANT\\AppData\\Roaming\\Python\\Python38\\site-packages\\statsmodels\\tsa\\base\\tsa_model.py:390: ValueWarning: No supported index is available. Prediction results will be given with an integer index beginning at `start`.\n",
      "  warnings.warn('No supported index is available.'\n"
     ]
    }
   ],
   "source": [
    "start=len(train)\n",
    "end=len(train)+len(test)-1\n",
    "pred=model_fit.predict(start=start,end=end,type='levels')\n",
    "pred.index=df.index[start:end+1]\n",
    "print(pred)"
   ]
  },
  {
   "cell_type": "code",
   "execution_count": 28,
   "id": "7caba83a",
   "metadata": {},
   "outputs": [
    {
     "data": {
      "text/plain": [
       "<AxesSubplot:xlabel='Date'>"
      ]
     },
     "execution_count": 28,
     "metadata": {},
     "output_type": "execute_result"
    },
    {
     "data": {
      "image/png": "[encoded data removed]",
      "text/plain": [
       "<Figure size 432x288 with 1 Axes>"
      ]
     },
     "metadata": {
      "needs_background": "light"
     },
     "output_type": "display_data"
    }
   ],
   "source": [
    "pred.plot(legend=True)\n",
    "test['T'].plot(legend=True)"
   ]
  },
  {
   "cell_type": "code",
   "execution_count": 31,
   "id": "31137a8f",
   "metadata": {},
   "outputs": [
    {
     "data": {
      "text/plain": [
       "16.52857142857143"
      ]
     },
     "execution_count": 31,
     "metadata": {},
     "output_type": "execute_result"
    }
   ],
   "source": [
    "test['T'].mean()"
   ]
  },
  {
   "cell_type": "code",
   "execution_count": 34,
   "id": "0848ed49",
   "metadata": {},
   "outputs": [
    {
     "data": {
      "text/plain": [
       "6.9977417398708495"
      ]
     },
     "execution_count": 34,
     "metadata": {},
     "output_type": "execute_result"
    }
   ],
   "source": [
    "from sklearn.metrics import mean_squared_error\n",
    "from math import sqrt\n",
    "rmse=sqrt(mean_squared_error(pred,test['T']))\n",
    "rmse"
   ]
  },
  {
   "cell_type": "code",
   "execution_count": 35,
   "id": "9b55fcbd",
   "metadata": {},
   "outputs": [
    {
     "data": {
      "text/plain": [
       "Date\n",
       "2005-04-04    12.1\n",
       "2005-04-04    14.2\n",
       "2005-04-04    28.3\n",
       "2005-04-04     9.5\n",
       "2005-04-04    28.5\n",
       "Name: T, dtype: float64"
      ]
     },
     "execution_count": 35,
     "metadata": {},
     "output_type": "execute_result"
    }
   ],
   "source": [
    "data.tail()"
   ]
  },
  {
   "cell_type": "code",
   "execution_count": null,
   "id": "888a1616",
   "metadata": {},
   "outputs": [],
   "source": [
    "index_future_dates=pd.date_range(start='2005-04-04',end='2006-04-04')"
   ]
  }
 ],
 "metadata": {
  "kernelspec": {
   "display_name": "Python 3",
   "language": "python",
   "name": "python3"
  },
  "language_info": {
   "codemirror_mode": {
    "name": "ipython",
    "version": 3
   },
   "file_extension": ".py",
   "mimetype": "text/x-python",
   "name": "python",
   "nbconvert_exporter": "python",
   "pygments_lexer": "ipython3",
   "version": "3.8.8"
  }
 },
 "nbformat": 4,
 "nbformat_minor": 5
}
